{
 "cells": [
  {
   "cell_type": "code",
   "execution_count": 1,
   "id": "1b229fe3",
   "metadata": {},
   "outputs": [],
   "source": [
    "import pandas as pd"
   ]
  },
  {
   "cell_type": "code",
   "execution_count": 2,
   "id": "630de815",
   "metadata": {},
   "outputs": [],
   "source": [
    "import numpy as np"
   ]
  },
  {
   "cell_type": "code",
   "execution_count": 3,
   "id": "c58bd9f1",
   "metadata": {},
   "outputs": [],
   "source": [
    "import matplotlib.pyplot as plt"
   ]
  },
  {
   "cell_type": "code",
   "execution_count": 4,
   "id": "73c8586e",
   "metadata": {},
   "outputs": [],
   "source": [
    "from sklearn.preprocessing import LabelEncoder"
   ]
  },
  {
   "cell_type": "code",
   "execution_count": 5,
   "id": "8dd1be2c",
   "metadata": {},
   "outputs": [],
   "source": [
    "from sklearn.feature_extraction.text import TfidfVectorizer"
   ]
  },
  {
   "cell_type": "code",
   "execution_count": 6,
   "id": "0b55b3e8",
   "metadata": {},
   "outputs": [],
   "source": [
    "from sklearn.model_selection import train_test_split"
   ]
  },
  {
   "cell_type": "code",
   "execution_count": 7,
   "id": "3f6a8760",
   "metadata": {},
   "outputs": [],
   "source": [
    "from sklearn.ensemble import RandomForestClassifier"
   ]
  },
  {
   "cell_type": "code",
   "execution_count": 8,
   "id": "bbe7b785",
   "metadata": {},
   "outputs": [],
   "source": [
    "from sklearn.metrics import accuracy_score,confusion_matrix,classification_report"
   ]
  },
  {
   "cell_type": "code",
   "execution_count": 9,
   "id": "e57811c6",
   "metadata": {},
   "outputs": [],
   "source": [
    "import seaborn as sns"
   ]
  },
  {
   "cell_type": "code",
   "execution_count": 10,
   "id": "d5a56294",
   "metadata": {},
   "outputs": [],
   "source": [
    "from wordcloud import WordCloud"
   ]
  },
  {
   "cell_type": "code",
   "execution_count": 11,
   "id": "96c7f04d",
   "metadata": {},
   "outputs": [],
   "source": [
    "from collections import Counter"
   ]
  },
  {
   "cell_type": "code",
   "execution_count": 12,
   "id": "0c604cd2",
   "metadata": {},
   "outputs": [],
   "source": [
    "from sklearn.linear_model import LogisticRegression "
   ]
  },
  {
   "cell_type": "code",
   "execution_count": 13,
   "id": "1f0e67f4",
   "metadata": {},
   "outputs": [],
   "source": [
    "from sklearn.neighbors import KNeighborsClassifier"
   ]
  },
  {
   "cell_type": "code",
   "execution_count": 14,
   "id": "d56e790c",
   "metadata": {},
   "outputs": [],
   "source": [
    "import xgboost as xgb"
   ]
  },
  {
   "cell_type": "code",
   "execution_count": 15,
   "id": "2529e73b",
   "metadata": {},
   "outputs": [],
   "source": [
    "import nltk"
   ]
  },
  {
   "cell_type": "code",
   "execution_count": 16,
   "id": "ab3fbc7f",
   "metadata": {},
   "outputs": [],
   "source": [
    "from nltk.corpus import stopwords"
   ]
  },
  {
   "cell_type": "code",
   "execution_count": 17,
   "id": "f5a3f4ac",
   "metadata": {},
   "outputs": [],
   "source": [
    "import string"
   ]
  },
  {
   "cell_type": "code",
   "execution_count": 18,
   "id": "8cf1f903",
   "metadata": {},
   "outputs": [],
   "source": [
    "from nltk.stem import PorterStemmer"
   ]
  },
  {
   "cell_type": "code",
   "execution_count": 19,
   "id": "2569737d",
   "metadata": {},
   "outputs": [],
   "source": [
    "df=pd.read_csv(\"Emotion_classify_Data.csv\")\n"
   ]
  },
  {
   "cell_type": "code",
   "execution_count": 20,
   "id": "fa6f3595",
   "metadata": {},
   "outputs": [
    {
     "data": {
      "text/html": [
       "<div>\n",
       "<style scoped>\n",
       "    .dataframe tbody tr th:only-of-type {\n",
       "        vertical-align: middle;\n",
       "    }\n",
       "\n",
       "    .dataframe tbody tr th {\n",
       "        vertical-align: top;\n",
       "    }\n",
       "\n",
       "    .dataframe thead th {\n",
       "        text-align: right;\n",
       "    }\n",
       "</style>\n",
       "<table border=\"1\" class=\"dataframe\">\n",
       "  <thead>\n",
       "    <tr style=\"text-align: right;\">\n",
       "      <th></th>\n",
       "      <th>Comment</th>\n",
       "      <th>Emotion</th>\n",
       "    </tr>\n",
       "  </thead>\n",
       "  <tbody>\n",
       "    <tr>\n",
       "      <th>0</th>\n",
       "      <td>i seriously hate one subject to death but now ...</td>\n",
       "      <td>fear</td>\n",
       "    </tr>\n",
       "    <tr>\n",
       "      <th>1</th>\n",
       "      <td>im so full of life i feel appalled</td>\n",
       "      <td>anger</td>\n",
       "    </tr>\n",
       "    <tr>\n",
       "      <th>2</th>\n",
       "      <td>i sit here to write i start to dig out my feel...</td>\n",
       "      <td>fear</td>\n",
       "    </tr>\n",
       "    <tr>\n",
       "      <th>3</th>\n",
       "      <td>ive been really angry with r and i feel like a...</td>\n",
       "      <td>joy</td>\n",
       "    </tr>\n",
       "    <tr>\n",
       "      <th>4</th>\n",
       "      <td>i feel suspicious if there is no one outside l...</td>\n",
       "      <td>fear</td>\n",
       "    </tr>\n",
       "    <tr>\n",
       "      <th>...</th>\n",
       "      <td>...</td>\n",
       "      <td>...</td>\n",
       "    </tr>\n",
       "    <tr>\n",
       "      <th>5932</th>\n",
       "      <td>i begun to feel distressed for you</td>\n",
       "      <td>fear</td>\n",
       "    </tr>\n",
       "    <tr>\n",
       "      <th>5933</th>\n",
       "      <td>i left feeling annoyed and angry thinking that...</td>\n",
       "      <td>anger</td>\n",
       "    </tr>\n",
       "    <tr>\n",
       "      <th>5934</th>\n",
       "      <td>i were to ever get married i d have everything...</td>\n",
       "      <td>joy</td>\n",
       "    </tr>\n",
       "    <tr>\n",
       "      <th>5935</th>\n",
       "      <td>i feel reluctant in applying there because i w...</td>\n",
       "      <td>fear</td>\n",
       "    </tr>\n",
       "    <tr>\n",
       "      <th>5936</th>\n",
       "      <td>i just wanted to apologize to you because i fe...</td>\n",
       "      <td>anger</td>\n",
       "    </tr>\n",
       "  </tbody>\n",
       "</table>\n",
       "<p>5937 rows × 2 columns</p>\n",
       "</div>"
      ],
      "text/plain": [
       "                                                Comment Emotion\n",
       "0     i seriously hate one subject to death but now ...    fear\n",
       "1                    im so full of life i feel appalled   anger\n",
       "2     i sit here to write i start to dig out my feel...    fear\n",
       "3     ive been really angry with r and i feel like a...     joy\n",
       "4     i feel suspicious if there is no one outside l...    fear\n",
       "...                                                 ...     ...\n",
       "5932                 i begun to feel distressed for you    fear\n",
       "5933  i left feeling annoyed and angry thinking that...   anger\n",
       "5934  i were to ever get married i d have everything...     joy\n",
       "5935  i feel reluctant in applying there because i w...    fear\n",
       "5936  i just wanted to apologize to you because i fe...   anger\n",
       "\n",
       "[5937 rows x 2 columns]"
      ]
     },
     "execution_count": 20,
     "metadata": {},
     "output_type": "execute_result"
    }
   ],
   "source": [
    "df"
   ]
  },
  {
   "cell_type": "code",
   "execution_count": 21,
   "id": "24743402",
   "metadata": {},
   "outputs": [
    {
     "name": "stdout",
     "output_type": "stream",
     "text": [
      "<class 'pandas.core.frame.DataFrame'>\n",
      "RangeIndex: 5937 entries, 0 to 5936\n",
      "Data columns (total 2 columns):\n",
      " #   Column   Non-Null Count  Dtype \n",
      "---  ------   --------------  ----- \n",
      " 0   Comment  5937 non-null   object\n",
      " 1   Emotion  5937 non-null   object\n",
      "dtypes: object(2)\n",
      "memory usage: 92.9+ KB\n"
     ]
    }
   ],
   "source": [
    "df.info()"
   ]
  },
  {
   "cell_type": "code",
   "execution_count": 22,
   "id": "5572a696",
   "metadata": {},
   "outputs": [
    {
     "data": {
      "text/html": [
       "<div>\n",
       "<style scoped>\n",
       "    .dataframe tbody tr th:only-of-type {\n",
       "        vertical-align: middle;\n",
       "    }\n",
       "\n",
       "    .dataframe tbody tr th {\n",
       "        vertical-align: top;\n",
       "    }\n",
       "\n",
       "    .dataframe thead th {\n",
       "        text-align: right;\n",
       "    }\n",
       "</style>\n",
       "<table border=\"1\" class=\"dataframe\">\n",
       "  <thead>\n",
       "    <tr style=\"text-align: right;\">\n",
       "      <th></th>\n",
       "      <th>Comment</th>\n",
       "      <th>Emotion</th>\n",
       "    </tr>\n",
       "  </thead>\n",
       "  <tbody>\n",
       "    <tr>\n",
       "      <th>count</th>\n",
       "      <td>5937</td>\n",
       "      <td>5937</td>\n",
       "    </tr>\n",
       "    <tr>\n",
       "      <th>unique</th>\n",
       "      <td>5934</td>\n",
       "      <td>3</td>\n",
       "    </tr>\n",
       "    <tr>\n",
       "      <th>top</th>\n",
       "      <td>i feel like a tortured artist when i talk to her</td>\n",
       "      <td>anger</td>\n",
       "    </tr>\n",
       "    <tr>\n",
       "      <th>freq</th>\n",
       "      <td>2</td>\n",
       "      <td>2000</td>\n",
       "    </tr>\n",
       "  </tbody>\n",
       "</table>\n",
       "</div>"
      ],
      "text/plain": [
       "                                                 Comment Emotion\n",
       "count                                               5937    5937\n",
       "unique                                              5934       3\n",
       "top     i feel like a tortured artist when i talk to her   anger\n",
       "freq                                                   2    2000"
      ]
     },
     "execution_count": 22,
     "metadata": {},
     "output_type": "execute_result"
    }
   ],
   "source": [
    "df.describe(include=\"all\")"
   ]
  },
  {
   "cell_type": "code",
   "execution_count": 23,
   "id": "6a521c30",
   "metadata": {},
   "outputs": [
    {
     "data": {
      "text/plain": [
       "Index(['Comment', 'Emotion'], dtype='object')"
      ]
     },
     "execution_count": 23,
     "metadata": {},
     "output_type": "execute_result"
    }
   ],
   "source": [
    "df.columns"
   ]
  },
  {
   "cell_type": "code",
   "execution_count": 24,
   "id": "b8923d44",
   "metadata": {},
   "outputs": [
    {
     "data": {
      "text/plain": [
       "(5937, 2)"
      ]
     },
     "execution_count": 24,
     "metadata": {},
     "output_type": "execute_result"
    }
   ],
   "source": [
    "df.shape"
   ]
  },
  {
   "cell_type": "code",
   "execution_count": 25,
   "id": "ec2820a2",
   "metadata": {
    "scrolled": false
   },
   "outputs": [
    {
     "data": {
      "image/png": "[encoded data removed]",
      "text/plain": [
       "<Figure size 720x360 with 1 Axes>"
      ]
     },
     "metadata": {
      "needs_background": "light"
     },
     "output_type": "display_data"
    }
   ],
   "source": [
    "wordcloud = WordCloud(width=800, height=400, background_color='white').generate(' '.join(df['Comment']))\n",
    "\n",
    "# Show the word cloud\n",
    "plt.figure(figsize=(10, 5))\n",
    "plt.imshow(wordcloud, interpolation='bilinear')\n",
    "plt.axis('off')\n",
    "plt.show()"
   ]
  },
  {
   "cell_type": "code",
   "execution_count": 26,
   "id": "9054f00b",
   "metadata": {},
   "outputs": [
    {
     "name": "stderr",
     "output_type": "stream",
     "text": [
      "[nltk_data] Downloading package stopwords to\n",
      "[nltk_data]     C:\\Users\\himanshu\\AppData\\Roaming\\nltk_data...\n",
      "[nltk_data]   Package stopwords is already up-to-date!\n"
     ]
    },
    {
     "data": {
      "text/plain": [
       "True"
      ]
     },
     "execution_count": 26,
     "metadata": {},
     "output_type": "execute_result"
    }
   ],
   "source": [
    "nltk.download('stopwords')"
   ]
  },
  {
   "cell_type": "markdown",
   "id": "806757f0",
   "metadata": {},
   "source": [
    "# Data Preprocessing"
   ]
  },
  {
   "cell_type": "markdown",
   "id": "2b955ae6",
   "metadata": {},
   "source": [
    "1. Lowercase\n",
    "2. Tokenization\n",
    "3. Removing special characters\n",
    "4. Removing stop words and punctuation\n",
    "5. stemming"
   ]
  },
  {
   "cell_type": "code",
   "execution_count": 27,
   "id": "6d5e341c",
   "metadata": {},
   "outputs": [],
   "source": [
    "ps=PorterStemmer()"
   ]
  },
  {
   "cell_type": "code",
   "execution_count": 28,
   "id": "37ebfe4c",
   "metadata": {},
   "outputs": [],
   "source": [
    "def transform_text(text):\n",
    "    text=text.lower()\n",
    "    text=nltk.word_tokenize(text)\n",
    "    \n",
    "    y=[]\n",
    "    \n",
    "    for i in text:\n",
    "        if i.isalnum():\n",
    "            y.append(i)\n",
    "    text=y[:]\n",
    "    \n",
    "    y.clear()\n",
    "    \n",
    "    for i in text:\n",
    "        if i not in stopwords.words('english') and i not in string.punctuation:\n",
    "            y.append(i)\n",
    "    text=y[:]\n",
    "    y.clear()\n",
    "    \n",
    "    for i in text:\n",
    "        y.append(ps.stem(i))\n",
    "    \n",
    "    return \" \".join(y)"
   ]
  },
  {
   "cell_type": "code",
   "execution_count": 29,
   "id": "fd9884cc",
   "metadata": {},
   "outputs": [],
   "source": [
    "df['Comment']=df['Comment'].apply(transform_text)"
   ]
  },
  {
   "cell_type": "code",
   "execution_count": 30,
   "id": "6c8bfcc4",
   "metadata": {},
   "outputs": [
    {
     "data": {
      "text/html": [
       "<div>\n",
       "<style scoped>\n",
       "    .dataframe tbody tr th:only-of-type {\n",
       "        vertical-align: middle;\n",
       "    }\n",
       "\n",
       "    .dataframe tbody tr th {\n",
       "        vertical-align: top;\n",
       "    }\n",
       "\n",
       "    .dataframe thead th {\n",
       "        text-align: right;\n",
       "    }\n",
       "</style>\n",
       "<table border=\"1\" class=\"dataframe\">\n",
       "  <thead>\n",
       "    <tr style=\"text-align: right;\">\n",
       "      <th></th>\n",
       "      <th>Comment</th>\n",
       "      <th>Emotion</th>\n",
       "    </tr>\n",
       "  </thead>\n",
       "  <tbody>\n",
       "    <tr>\n",
       "      <th>0</th>\n",
       "      <td>serious hate one subject death feel reluct drop</td>\n",
       "      <td>fear</td>\n",
       "    </tr>\n",
       "    <tr>\n",
       "      <th>1</th>\n",
       "      <td>im full life feel appal</td>\n",
       "      <td>anger</td>\n",
       "    </tr>\n",
       "    <tr>\n",
       "      <th>2</th>\n",
       "      <td>sit write start dig feel think afraid accept p...</td>\n",
       "      <td>fear</td>\n",
       "    </tr>\n",
       "    <tr>\n",
       "      <th>3</th>\n",
       "      <td>ive realli angri r feel like idiot trust first...</td>\n",
       "      <td>joy</td>\n",
       "    </tr>\n",
       "    <tr>\n",
       "      <th>4</th>\n",
       "      <td>feel suspici one outsid like raptur happen someth</td>\n",
       "      <td>fear</td>\n",
       "    </tr>\n",
       "    <tr>\n",
       "      <th>...</th>\n",
       "      <td>...</td>\n",
       "      <td>...</td>\n",
       "    </tr>\n",
       "    <tr>\n",
       "      <th>5932</th>\n",
       "      <td>begun feel distress</td>\n",
       "      <td>fear</td>\n",
       "    </tr>\n",
       "    <tr>\n",
       "      <th>5933</th>\n",
       "      <td>left feel annoy angri think center stupid joke</td>\n",
       "      <td>anger</td>\n",
       "    </tr>\n",
       "    <tr>\n",
       "      <th>5934</th>\n",
       "      <td>ever get marri everyth readi offer got togeth ...</td>\n",
       "      <td>joy</td>\n",
       "    </tr>\n",
       "    <tr>\n",
       "      <th>5935</th>\n",
       "      <td>feel reluct appli want abl find compani know l...</td>\n",
       "      <td>fear</td>\n",
       "    </tr>\n",
       "    <tr>\n",
       "      <th>5936</th>\n",
       "      <td>want apolog feel like heartless bitch</td>\n",
       "      <td>anger</td>\n",
       "    </tr>\n",
       "  </tbody>\n",
       "</table>\n",
       "<p>5937 rows × 2 columns</p>\n",
       "</div>"
      ],
      "text/plain": [
       "                                                Comment Emotion\n",
       "0       serious hate one subject death feel reluct drop    fear\n",
       "1                               im full life feel appal   anger\n",
       "2     sit write start dig feel think afraid accept p...    fear\n",
       "3     ive realli angri r feel like idiot trust first...     joy\n",
       "4     feel suspici one outsid like raptur happen someth    fear\n",
       "...                                                 ...     ...\n",
       "5932                                begun feel distress    fear\n",
       "5933     left feel annoy angri think center stupid joke   anger\n",
       "5934  ever get marri everyth readi offer got togeth ...     joy\n",
       "5935  feel reluct appli want abl find compani know l...    fear\n",
       "5936              want apolog feel like heartless bitch   anger\n",
       "\n",
       "[5937 rows x 2 columns]"
      ]
     },
     "execution_count": 30,
     "metadata": {},
     "output_type": "execute_result"
    }
   ],
   "source": [
    "df"
   ]
  },
  {
   "cell_type": "code",
   "execution_count": 31,
   "id": "d37d621e",
   "metadata": {},
   "outputs": [],
   "source": [
    "word_freq = Counter(' '.join(df['Comment']).split())\n"
   ]
  },
  {
   "cell_type": "code",
   "execution_count": 32,
   "id": "d3bae2f1",
   "metadata": {},
   "outputs": [
    {
     "data": {
      "text/plain": [
       "Counter({'serious': 19,\n",
       "         'hate': 136,\n",
       "         'one': 228,\n",
       "         'subject': 9,\n",
       "         'death': 11,\n",
       "         'feel': 6233,\n",
       "         'reluct': 60,\n",
       "         'drop': 11,\n",
       "         'im': 943,\n",
       "         'full': 26,\n",
       "         'life': 180,\n",
       "         'appal': 10,\n",
       "         'sit': 51,\n",
       "         'write': 116,\n",
       "         'start': 180,\n",
       "         'dig': 4,\n",
       "         'think': 274,\n",
       "         'afraid': 77,\n",
       "         'accept': 55,\n",
       "         'possibl': 38,\n",
       "         'might': 57,\n",
       "         'make': 343,\n",
       "         'ive': 199,\n",
       "         'realli': 323,\n",
       "         'angri': 92,\n",
       "         'r': 6,\n",
       "         'like': 1013,\n",
       "         'idiot': 7,\n",
       "         'trust': 44,\n",
       "         'first': 77,\n",
       "         'place': 64,\n",
       "         'suspici': 30,\n",
       "         'outsid': 18,\n",
       "         'raptur': 1,\n",
       "         'happen': 67,\n",
       "         'someth': 194,\n",
       "         'jealou': 50,\n",
       "         'becasu': 1,\n",
       "         'want': 358,\n",
       "         'kind': 82,\n",
       "         'love': 193,\n",
       "         'true': 16,\n",
       "         'connect': 17,\n",
       "         'two': 52,\n",
       "         'soul': 11,\n",
       "         'friend': 117,\n",
       "         'mine': 20,\n",
       "         'keep': 71,\n",
       "         'tell': 76,\n",
       "         'morbid': 2,\n",
       "         'thing': 262,\n",
       "         'dog': 10,\n",
       "         'final': 30,\n",
       "         'fell': 2,\n",
       "         'asleep': 6,\n",
       "         'useless': 4,\n",
       "         'still': 209,\n",
       "         'anxieti': 15,\n",
       "         'bit': 221,\n",
       "         'annoy': 66,\n",
       "         'antsi': 5,\n",
       "         'good': 132,\n",
       "         'way': 223,\n",
       "         'regain': 4,\n",
       "         'anoth': 56,\n",
       "         'vital': 15,\n",
       "         'part': 62,\n",
       "         'live': 97,\n",
       "         'franz': 1,\n",
       "         'liebkind': 1,\n",
       "         'produc': 4,\n",
       "         'mani': 71,\n",
       "         'peopl': 268,\n",
       "         'know': 348,\n",
       "         'fuhrer': 1,\n",
       "         'terrif': 14,\n",
       "         'dancer': 2,\n",
       "         'didnt': 95,\n",
       "         'move': 47,\n",
       "         'much': 167,\n",
       "         'glad': 30,\n",
       "         'experi': 33,\n",
       "         'glimps': 4,\n",
       "         'sort': 34,\n",
       "         'vibrant': 3,\n",
       "         'energi': 30,\n",
       "         'gain': 9,\n",
       "         'year': 110,\n",
       "         'bitten': 3,\n",
       "         'alway': 126,\n",
       "         'find': 97,\n",
       "         'thank': 53,\n",
       "         'gather': 6,\n",
       "         'trick': 4,\n",
       "         'allow': 30,\n",
       "         'grate': 22,\n",
       "         'face': 44,\n",
       "         'moment': 65,\n",
       "         'last': 71,\n",
       "         'say': 162,\n",
       "         'tri': 144,\n",
       "         'talk': 89,\n",
       "         'anyon': 53,\n",
       "         'irrit': 125,\n",
       "         'sinc': 59,\n",
       "         'dont': 186,\n",
       "         'wrote': 14,\n",
       "         'follow': 22,\n",
       "         'littl': 326,\n",
       "         'note': 7,\n",
       "         'today': 117,\n",
       "         'u': 12,\n",
       "         'offend': 60,\n",
       "         'post': 67,\n",
       "         'obvious': 10,\n",
       "         'long': 68,\n",
       "         'enough': 99,\n",
       "         'compromis': 2,\n",
       "         'act': 27,\n",
       "         'believ': 48,\n",
       "         'choos': 9,\n",
       "         'guy': 40,\n",
       "         'treat': 16,\n",
       "         'would': 220,\n",
       "         'put': 75,\n",
       "         'stop': 72,\n",
       "         'nonsens': 3,\n",
       "         'rememb': 80,\n",
       "         'belong': 14,\n",
       "         'smart': 21,\n",
       "         'cool': 13,\n",
       "         'even': 231,\n",
       "         'young': 17,\n",
       "         'redeem': 2,\n",
       "         'though': 103,\n",
       "         'realiz': 45,\n",
       "         'distraught': 26,\n",
       "         'ok': 33,\n",
       "         'hope': 98,\n",
       "         'next': 44,\n",
       "         'quot': 8,\n",
       "         'abl': 68,\n",
       "         'let': 71,\n",
       "         'special': 36,\n",
       "         'someon': 104,\n",
       "         'insecur': 62,\n",
       "         'understand': 46,\n",
       "         'matter': 23,\n",
       "         'better': 73,\n",
       "         'without': 78,\n",
       "         'help': 134,\n",
       "         'ice': 6,\n",
       "         'type': 26,\n",
       "         'wonder': 71,\n",
       "         'distract': 49,\n",
       "         'comfort': 47,\n",
       "         'misunderstood': 2,\n",
       "         'hurt': 52,\n",
       "         'shaki': 48,\n",
       "         'time': 360,\n",
       "         'slightli': 44,\n",
       "         'odd': 5,\n",
       "         'jade': 2,\n",
       "         'hair': 25,\n",
       "         'particular': 8,\n",
       "         'seem': 49,\n",
       "         'prone': 2,\n",
       "         'gener': 56,\n",
       "         'work': 172,\n",
       "         'well': 106,\n",
       "         'spencer': 1,\n",
       "         'strop': 2,\n",
       "         'grumpi': 37,\n",
       "         'miss': 37,\n",
       "         'shall': 3,\n",
       "         'go': 347,\n",
       "         'mad': 58,\n",
       "         'happpi': 1,\n",
       "         'get': 402,\n",
       "         'result': 27,\n",
       "         'field': 6,\n",
       "         'academ': 2,\n",
       "         'athlet': 2,\n",
       "         'got': 104,\n",
       "         'brig': 1,\n",
       "         'sincer': 25,\n",
       "         'strong': 44,\n",
       "         'desir': 17,\n",
       "         'other': 56,\n",
       "         'becom': 49,\n",
       "         'success': 35,\n",
       "         'financi': 10,\n",
       "         'also': 134,\n",
       "         'build': 17,\n",
       "         'strengthen': 2,\n",
       "         'relationship': 31,\n",
       "         'christian': 11,\n",
       "         'deepli': 15,\n",
       "         'overwhelm': 70,\n",
       "         'ordinari': 2,\n",
       "         'task': 9,\n",
       "         'grouchi': 22,\n",
       "         'sick': 21,\n",
       "         'heart': 57,\n",
       "         'expect': 32,\n",
       "         'content': 42,\n",
       "         'amus': 21,\n",
       "         'absurd': 1,\n",
       "         'end': 70,\n",
       "         'unwant': 3,\n",
       "         'attent': 15,\n",
       "         'boy': 28,\n",
       "         'ill': 54,\n",
       "         'flirti': 4,\n",
       "         'presenc': 10,\n",
       "         'insincer': 3,\n",
       "         'around': 139,\n",
       "         'couldnt': 36,\n",
       "         'bitter': 46,\n",
       "         'toward': 54,\n",
       "         'great': 39,\n",
       "         'big': 35,\n",
       "         'happi': 96,\n",
       "         'grin': 5,\n",
       "         'back': 161,\n",
       "         'point': 48,\n",
       "         'easi': 19,\n",
       "         'sell': 6,\n",
       "         'folk': 10,\n",
       "         'virtuou': 14,\n",
       "         'anyway': 16,\n",
       "         'sociabl': 12,\n",
       "         'although': 16,\n",
       "         'express': 21,\n",
       "         'everyth': 78,\n",
       "         'joy': 41,\n",
       "         'certain': 32,\n",
       "         'situat': 43,\n",
       "         'felt': 108,\n",
       "         'neglect': 5,\n",
       "         'undeservedli': 1,\n",
       "         'harm': 8,\n",
       "         'fine': 32,\n",
       "         'look': 138,\n",
       "         'us': 50,\n",
       "         'three': 22,\n",
       "         'instead': 26,\n",
       "         'outrag': 20,\n",
       "         'histori': 5,\n",
       "         'aggress': 3,\n",
       "         'privileg': 13,\n",
       "         'optimist': 19,\n",
       "         'hollow': 1,\n",
       "         'ye': 13,\n",
       "         'hear': 43,\n",
       "         'smith': 1,\n",
       "         'day': 231,\n",
       "         'indecis': 26,\n",
       "         'poll': 2,\n",
       "         'yall': 4,\n",
       "         'p': 4,\n",
       "         'sometim': 81,\n",
       "         'girl': 46,\n",
       "         'term': 8,\n",
       "         'exboyfriend': 1,\n",
       "         'came': 27,\n",
       "         'shout': 5,\n",
       "         'twelv': 2,\n",
       "         'midnight': 1,\n",
       "         'thought': 100,\n",
       "         'interest': 22,\n",
       "         'id': 57,\n",
       "         'resent': 64,\n",
       "         'countri': 17,\n",
       "         'sun': 9,\n",
       "         'stubbornli': 2,\n",
       "         'refus': 12,\n",
       "         'show': 53,\n",
       "         'septemb': 1,\n",
       "         'fuck': 75,\n",
       "         'confess': 8,\n",
       "         'nervou': 79,\n",
       "         'made': 92,\n",
       "         'event': 23,\n",
       "         'venu': 2,\n",
       "         'worri': 41,\n",
       "         'intimid': 55,\n",
       "         'monica': 1,\n",
       "         'met': 16,\n",
       "         'morn': 43,\n",
       "         'incred': 25,\n",
       "         'welcom': 24,\n",
       "         'relax': 31,\n",
       "         'straight': 10,\n",
       "         'away': 89,\n",
       "         'cold': 75,\n",
       "         'amp': 32,\n",
       "         'patienc': 5,\n",
       "         'whitley': 1,\n",
       "         'month': 43,\n",
       "         'photo': 15,\n",
       "         'shoot': 4,\n",
       "         'obnoxi': 18,\n",
       "         'pictur': 22,\n",
       "         'moral': 11,\n",
       "         'furiou': 14,\n",
       "         'often': 54,\n",
       "         'piss': 52,\n",
       "         'offer': 17,\n",
       "         'soda': 2,\n",
       "         'tread': 1,\n",
       "         'danger': 56,\n",
       "         'territori': 2,\n",
       "         'frighten': 42,\n",
       "         'pleasant': 15,\n",
       "         'selfish': 61,\n",
       "         'fallen': 2,\n",
       "         'apart': 6,\n",
       "         'shaft': 1,\n",
       "         'greedi': 58,\n",
       "         'crappi': 3,\n",
       "         'week': 70,\n",
       "         'agit': 100,\n",
       "         'rebelli': 42,\n",
       "         'particularli': 29,\n",
       "         'watch': 51,\n",
       "         'romcom': 1,\n",
       "         'may': 68,\n",
       "         'pretti': 121,\n",
       "         'leav': 61,\n",
       "         'alon': 33,\n",
       "         'repay': 1,\n",
       "         'asham': 8,\n",
       "         'see': 150,\n",
       "         'terrifi': 76,\n",
       "         'cri': 40,\n",
       "         'children': 22,\n",
       "         'dead': 5,\n",
       "         'wake': 25,\n",
       "         'voic': 12,\n",
       "         'throat': 7,\n",
       "         'afternoon': 6,\n",
       "         'scratchi': 1,\n",
       "         'sound': 17,\n",
       "         'marg': 1,\n",
       "         'simpson': 1,\n",
       "         'night': 59,\n",
       "         'bad': 43,\n",
       "         'sore': 5,\n",
       "         'whisper': 4,\n",
       "         'talent': 30,\n",
       "         'enter': 13,\n",
       "         'offici': 3,\n",
       "         'contest': 2,\n",
       "         'went': 42,\n",
       "         'satisfi': 29,\n",
       "         'dirt': 1,\n",
       "         'longer': 28,\n",
       "         'car': 26,\n",
       "         'hous': 44,\n",
       "         'edit': 3,\n",
       "         'song': 20,\n",
       "         'gift': 13,\n",
       "         'hesit': 53,\n",
       "         'program': 4,\n",
       "         'bitchi': 45,\n",
       "         'adequ': 2,\n",
       "         'appreci': 25,\n",
       "         'confus': 52,\n",
       "         'professor': 3,\n",
       "         'spitbal': 1,\n",
       "         'die': 18,\n",
       "         'pillow': 1,\n",
       "         'tickl': 3,\n",
       "         'jealousi': 7,\n",
       "         'lure': 2,\n",
       "         'lair': 1,\n",
       "         'rush': 54,\n",
       "         'finish': 20,\n",
       "         'million': 8,\n",
       "         'focu': 9,\n",
       "         'separ': 8,\n",
       "         'tortur': 72,\n",
       "         'dunno': 5,\n",
       "         'complet': 53,\n",
       "         'real': 28,\n",
       "         'world': 81,\n",
       "         'taught': 6,\n",
       "         'struggl': 17,\n",
       "         'thru': 1,\n",
       "         'noth': 53,\n",
       "         'close': 41,\n",
       "         'taken': 17,\n",
       "         'role': 6,\n",
       "         'grandmoth': 4,\n",
       "         'belov': 14,\n",
       "         'grandma': 1,\n",
       "         'fear': 67,\n",
       "         'ask': 74,\n",
       "         'smile': 23,\n",
       "         'except': 14,\n",
       "         'uptight': 21,\n",
       "         'comment': 18,\n",
       "         'jaw': 4,\n",
       "         'fall': 27,\n",
       "         'right': 137,\n",
       "         'head': 43,\n",
       "         'unsur': 65,\n",
       "         'boundari': 3,\n",
       "         'normalci': 1,\n",
       "         'gratitud': 5,\n",
       "         'graciou': 7,\n",
       "         'heavenli': 2,\n",
       "         'father': 10,\n",
       "         'left': 83,\n",
       "         'somewhat': 29,\n",
       "         'dissatisfi': 52,\n",
       "         'simpli': 27,\n",
       "         'said': 64,\n",
       "         'sorri': 11,\n",
       "         'restless': 39,\n",
       "         'weird': 65,\n",
       "         'wan': 13,\n",
       "         'na': 23,\n",
       "         'frantic': 39,\n",
       "         'despair': 1,\n",
       "         'hey': 7,\n",
       "         'take': 117,\n",
       "         'sip': 2,\n",
       "         'sensat': 7,\n",
       "         'capp': 1,\n",
       "         'pressur': 71,\n",
       "         'longest': 1,\n",
       "         'race': 18,\n",
       "         'support': 43,\n",
       "         'hat': 6,\n",
       "         'rule': 8,\n",
       "         'turn': 41,\n",
       "         'school': 43,\n",
       "         'san': 3,\n",
       "         'ever': 77,\n",
       "         'entir': 19,\n",
       "         'affect': 10,\n",
       "         'never': 86,\n",
       "         'account': 4,\n",
       "         'trauma': 3,\n",
       "         'bring': 19,\n",
       "         'scare': 74,\n",
       "         'lose': 28,\n",
       "         'clearli': 5,\n",
       "         'influenc': 6,\n",
       "         'dash': 3,\n",
       "         'emili': 2,\n",
       "         'dickinson': 1,\n",
       "         'exampl': 11,\n",
       "         'use': 127,\n",
       "         'colon': 2,\n",
       "         'semi': 2,\n",
       "         'enhanc': 1,\n",
       "         'enjamb': 1,\n",
       "         'sonnet': 1,\n",
       "         'pray': 12,\n",
       "         'eye': 46,\n",
       "         'read': 96,\n",
       "         'mind': 50,\n",
       "         'comprehend': 1,\n",
       "         'lot': 99,\n",
       "         'group': 17,\n",
       "         'small': 30,\n",
       "         'hang': 8,\n",
       "         'fail': 6,\n",
       "         'examin': 5,\n",
       "         'train': 21,\n",
       "         'outdoor': 3,\n",
       "         'late': 46,\n",
       "         'bundl': 3,\n",
       "         'wear': 41,\n",
       "         'sever': 12,\n",
       "         'layer': 4,\n",
       "         'rather': 61,\n",
       "         'sleep': 56,\n",
       "         'purpos': 10,\n",
       "         'earthquak': 1,\n",
       "         'shaken': 64,\n",
       "         'foundat': 4,\n",
       "         'recreat': 1,\n",
       "         'fog': 2,\n",
       "         'await': 2,\n",
       "         'tomorrow': 17,\n",
       "         'woke': 33,\n",
       "         'posit': 53,\n",
       "         'total': 35,\n",
       "         'mood': 21,\n",
       "         'banana': 2,\n",
       "         'shake': 12,\n",
       "         'breakfast': 3,\n",
       "         'chocol': 9,\n",
       "         'dinner': 10,\n",
       "         'sunday': 8,\n",
       "         'roast': 2,\n",
       "         'tea': 2,\n",
       "         'defin': 4,\n",
       "         'romanc': 1,\n",
       "         'anger': 29,\n",
       "         'mean': 66,\n",
       "         'terribl': 20,\n",
       "         'enviou': 31,\n",
       "         'regular': 5,\n",
       "         'wish': 43,\n",
       "         'could': 186,\n",
       "         'stay': 37,\n",
       "         'faith': 20,\n",
       "         'perceiv': 4,\n",
       "         'mountain': 7,\n",
       "         'assault': 18,\n",
       "         'new': 58,\n",
       "         'kid': 44,\n",
       "         'whine': 4,\n",
       "         'road': 7,\n",
       "         'initi': 5,\n",
       "         'rude': 52,\n",
       "         'food': 22,\n",
       "         'brought': 10,\n",
       "         'eat': 41,\n",
       "         'stuff': 33,\n",
       "         'gluten': 1,\n",
       "         'free': 41,\n",
       "         'delici': 20,\n",
       "         'mayb': 43,\n",
       "         'wasnt': 39,\n",
       "         'mediocr': 1,\n",
       "         'wed': 7,\n",
       "         'cake': 2,\n",
       "         'sure': 91,\n",
       "         'centuri': 2,\n",
       "         'colleg': 9,\n",
       "         'friday': 10,\n",
       "         'kick': 12,\n",
       "         'gear': 7,\n",
       "         'motiv': 13,\n",
       "         'product': 33,\n",
       "         'chalk': 2,\n",
       "         'idea': 38,\n",
       "         'art': 14,\n",
       "         'project': 18,\n",
       "         'summer': 13,\n",
       "         'armi': 2,\n",
       "         'attack': 14,\n",
       "         'pigeon': 1,\n",
       "         'tini': 10,\n",
       "         'uninhabit': 1,\n",
       "         'island': 5,\n",
       "         'alreadi': 62,\n",
       "         'convinc': 29,\n",
       "         'bother': 67,\n",
       "         'beat': 15,\n",
       "         'far': 38,\n",
       "         'basic': 7,\n",
       "         'drove': 7,\n",
       "         'class': 41,\n",
       "         'apprehens': 58,\n",
       "         'sweat': 5,\n",
       "         'wrong': 82,\n",
       "         'curs': 2,\n",
       "         'bang': 2,\n",
       "         'onto': 12,\n",
       "         'wall': 15,\n",
       "         'wrinkl': 2,\n",
       "         'prevent': 4,\n",
       "         'beauti': 31,\n",
       "         'reason': 55,\n",
       "         'thu': 6,\n",
       "         'gotten': 13,\n",
       "         'student': 27,\n",
       "         'parent': 30,\n",
       "         'cant': 117,\n",
       "         'differ': 44,\n",
       "         'open': 37,\n",
       "         'teacher': 13,\n",
       "         'perfect': 38,\n",
       "         'fit': 23,\n",
       "         'child': 38,\n",
       "         'islam': 1,\n",
       "         'deep': 23,\n",
       "         'alaska': 2,\n",
       "         'snowi': 1,\n",
       "         'yet': 60,\n",
       "         'land': 8,\n",
       "         'pine': 1,\n",
       "         'tree': 18,\n",
       "         'destin': 2,\n",
       "         'southern': 1,\n",
       "         'california': 2,\n",
       "         'shi': 50,\n",
       "         'mother': 35,\n",
       "         'describ': 8,\n",
       "         'ring': 8,\n",
       "         'arm': 20,\n",
       "         'leg': 15,\n",
       "         'cranki': 50,\n",
       "         'cantanker': 1,\n",
       "         'slave': 2,\n",
       "         'almost': 46,\n",
       "         'reli': 7,\n",
       "         'heavili': 2,\n",
       "         'either': 25,\n",
       "         'alcohol': 1,\n",
       "         'marijuana': 1,\n",
       "         'divorc': 1,\n",
       "         'space': 18,\n",
       "         'saniti': 3,\n",
       "         'matern': 3,\n",
       "         'respons': 16,\n",
       "         'crazi': 12,\n",
       "         'god': 55,\n",
       "         'crave': 7,\n",
       "         'fruit': 1,\n",
       "         'gross': 2,\n",
       "         'wind': 3,\n",
       "         'blow': 6,\n",
       "         'neck': 6,\n",
       "         'execut': 5,\n",
       "         'theme': 5,\n",
       "         'larg': 8,\n",
       "         'fathom': 1,\n",
       "         'emotionless': 1,\n",
       "         'pit': 2,\n",
       "         'self': 38,\n",
       "         'begun': 4,\n",
       "         'thick': 5,\n",
       "         'black': 9,\n",
       "         'rain': 9,\n",
       "         'cloud': 3,\n",
       "         'storm': 6,\n",
       "         'sky': 5,\n",
       "         'town': 5,\n",
       "         'pop': 9,\n",
       "         'automat': 2,\n",
       "         'shut': 11,\n",
       "         'door': 21,\n",
       "         'triumphant': 15,\n",
       "         'breath': 36,\n",
       "         'hertha': 1,\n",
       "         'ran': 8,\n",
       "         'finger': 14,\n",
       "         'across': 12,\n",
       "         'side': 31,\n",
       "         'gave': 16,\n",
       "         'plenti': 5,\n",
       "         'chang': 55,\n",
       "         'shine': 3,\n",
       "         'everi': 91,\n",
       "         'women': 25,\n",
       "         'problem': 22,\n",
       "         'five': 8,\n",
       "         'old': 44,\n",
       "         'element': 2,\n",
       "         'pleas': 37,\n",
       "         'surround': 8,\n",
       "         'ador': 1,\n",
       "         'garment': 1,\n",
       "         'hell': 10,\n",
       "         'casual': 21,\n",
       "         'favorit': 6,\n",
       "         'blue': 15,\n",
       "         'red': 20,\n",
       "         'heavi': 6,\n",
       "         'color': 16,\n",
       "         'tabl': 7,\n",
       "         'otherwis': 6,\n",
       "         'tournament': 2,\n",
       "         'deck': 2,\n",
       "         'popular': 30,\n",
       "         'step': 22,\n",
       "         'zendikar': 1,\n",
       "         'block': 10,\n",
       "         'rotat': 1,\n",
       "         'valid': 2,\n",
       "         'complaint': 2,\n",
       "         'arent': 10,\n",
       "         'will': 6,\n",
       "         'deal': 27,\n",
       "         'aspect': 7,\n",
       "         'imagin': 15,\n",
       "         'cover': 17,\n",
       "         'base': 8,\n",
       "         'despit': 12,\n",
       "         'must': 39,\n",
       "         'choic': 18,\n",
       "         'alter': 1,\n",
       "         'done': 47,\n",
       "         'elsewher': 1,\n",
       "         'notic': 18,\n",
       "         'easili': 14,\n",
       "         'ach': 5,\n",
       "         'insid': 34,\n",
       "         'unnotic': 1,\n",
       "         'burrow': 1,\n",
       "         'foot': 10,\n",
       "         'emot': 41,\n",
       "         'freak': 13,\n",
       "         'chest': 5,\n",
       "         'extrem': 43,\n",
       "         'attribut': 2,\n",
       "         'overshadow': 1,\n",
       "         'weak': 13,\n",
       "         'subconsci': 4,\n",
       "         'wire': 1,\n",
       "         'superior': 12,\n",
       "         'therebi': 3,\n",
       "         'hard': 44,\n",
       "         'hour': 34,\n",
       "         'assumpt': 3,\n",
       "         'strang': 87,\n",
       "         'walk': 72,\n",
       "         'custom': 4,\n",
       "         'maze': 1,\n",
       "         'found': 40,\n",
       "         'email': 4,\n",
       "         'scott': 1,\n",
       "         'dale': 1,\n",
       "         'fruster': 1,\n",
       "         'need': 186,\n",
       "         'neurot': 15,\n",
       "         'stubborn': 32,\n",
       "         'sneakili': 1,\n",
       "         'listen': 35,\n",
       "         'x': 4,\n",
       "         'ma': 1,\n",
       "         'music': 30,\n",
       "         'begin': 32,\n",
       "         'octob': 4,\n",
       "         'social': 10,\n",
       "         'pranc': 1,\n",
       "         'eartha': 1,\n",
       "         'kitt': 1,\n",
       "         'version': 4,\n",
       "         'santa': 3,\n",
       "         'babi': 28,\n",
       "         'blare': 1,\n",
       "         'ipod': 2,\n",
       "         'normal': 20,\n",
       "         'typic': 3,\n",
       "         'respond': 5,\n",
       "         'confid': 33,\n",
       "         'threw': 4,\n",
       "         'top': 9,\n",
       "         'tube': 3,\n",
       "         'surgeri': 5,\n",
       "         'unprotect': 4,\n",
       "         'artist': 34,\n",
       "         'manag': 23,\n",
       "         'usual': 36,\n",
       "         'mostli': 17,\n",
       "         'jon': 1,\n",
       "         'quit': 94,\n",
       "         'spent': 22,\n",
       "         'mental': 18,\n",
       "         'argu': 3,\n",
       "         'succumb': 2,\n",
       "         'hold': 19,\n",
       "         'strength': 11,\n",
       "         'determin': 25,\n",
       "         'workout': 5,\n",
       "         'room': 32,\n",
       "         'doubt': 42,\n",
       "         'dream': 31,\n",
       "         'she': 27,\n",
       "         'behind': 25,\n",
       "         'enrag': 8,\n",
       "         'punch': 8,\n",
       "         'actual': 92,\n",
       "         'everyon': 52,\n",
       "         'buy': 27,\n",
       "         'smell': 11,\n",
       "         'amaz': 27,\n",
       "         'sooner': 1,\n",
       "         'greg': 2,\n",
       "         'distress': 32,\n",
       "         'mom': 34,\n",
       "         'excit': 66,\n",
       "         'anxiou': 80,\n",
       "         'visabl': 1,\n",
       "         'spotlight': 1,\n",
       "         'unfashion': 1,\n",
       "         'stupid': 28,\n",
       "         'embarrass': 6,\n",
       "         'paranoid': 56,\n",
       "         'seen': 12,\n",
       "         'ago': 26,\n",
       "         'inspir': 38,\n",
       "         'realist': 2,\n",
       "         'increas': 6,\n",
       "         'blog': 71,\n",
       "         'chanc': 15,\n",
       "         'disappoint': 16,\n",
       "         'shown': 1,\n",
       "         'appar': 6,\n",
       "         'impati': 39,\n",
       "         'period': 7,\n",
       "         'hp': 1,\n",
       "         'plug': 4,\n",
       "         'laptop': 2,\n",
       "         'charg': 6,\n",
       "         'upload': 3,\n",
       "         'onlin': 7,\n",
       "         'fabul': 21,\n",
       "         'hide': 11,\n",
       "         'accord': 4,\n",
       "         'rest': 23,\n",
       "         'keenli': 1,\n",
       "         'greatli': 1,\n",
       "         'stitch': 3,\n",
       "         'mile': 4,\n",
       "         'feet': 9,\n",
       "         'etc': 19,\n",
       "         'uncomfort': 55,\n",
       "         'present': 14,\n",
       "         'option': 8,\n",
       "         'violent': 57,\n",
       "         'probabl': 37,\n",
       "         'costli': 1,\n",
       "         'equal': 13,\n",
       "         'futil': 1,\n",
       "         'what': 13,\n",
       "         'men': 16,\n",
       "         'collect': 7,\n",
       "         'creat': 27,\n",
       "         'preciou': 16,\n",
       "         'item': 5,\n",
       "         'tribut': 2,\n",
       "         'earth': 7,\n",
       "         'power': 16,\n",
       "         'generos': 1,\n",
       "         'majorli': 1,\n",
       "         'cast': 2,\n",
       "         'altern': 6,\n",
       "         'univers': 14,\n",
       "         'timelin': 1,\n",
       "         'stuck': 7,\n",
       "         'knew': 26,\n",
       "         'dress': 10,\n",
       "         'practis': 2,\n",
       "         'thai': 2,\n",
       "         'introduct': 1,\n",
       "         'session': 7,\n",
       "         'sat': 11,\n",
       "         'helpless': 51,\n",
       "         'disgust': 46,\n",
       "         'caus': 33,\n",
       "         'refer': 9,\n",
       "         'ugli': 5,\n",
       "         'handmad': 2,\n",
       "         'piec': 19,\n",
       "         'pcm': 1,\n",
       "         'appoint': 4,\n",
       "         'prom': 2,\n",
       "         'invit': 8,\n",
       "         'couldv': 2,\n",
       "         'heartbroken': 2,\n",
       "         'wimpi': 16,\n",
       "         'skip': 5,\n",
       "         'safe': 38,\n",
       "         'argument': 3,\n",
       "         'rough': 2,\n",
       "         'pick': 20,\n",
       "         'toy': 3,\n",
       "         'goddamn': 3,\n",
       "         'hop': 5,\n",
       "         'scale': 4,\n",
       "         'none': 5,\n",
       "         'award': 5,\n",
       "         'winner': 2,\n",
       "         'fun': 25,\n",
       "         'movi': 24,\n",
       "         'least': 43,\n",
       "         'number': 14,\n",
       "         'held': 9,\n",
       "         'mystic': 1,\n",
       "         'key': 11,\n",
       "         'govern': 10,\n",
       "         'conspiraci': 2,\n",
       "         'wrongli': 2,\n",
       "         'undo': 1,\n",
       "         'pain': 35,\n",
       "         'childhood': 5,\n",
       "         'bigotri': 1,\n",
       "         'bind': 2,\n",
       "         'path': 19,\n",
       "         'decid': 42,\n",
       "         'give': 81,\n",
       "         'rupe': 1,\n",
       "         'there': 21,\n",
       "         'nowher': 3,\n",
       "         'brave': 30,\n",
       "         'nice': 25,\n",
       "         'tip': 7,\n",
       "         'skeptic': 34,\n",
       "         'paint': 7,\n",
       "         'nail': 6,\n",
       "         'light': 18,\n",
       "         'skin': 10,\n",
       "         'stand': 29,\n",
       "         'cute': 28,\n",
       "         'hooker': 1,\n",
       "         'ward': 3,\n",
       "         'epilept': 1,\n",
       "         'patient': 10,\n",
       "         'burnt': 4,\n",
       "         'whole': 59,\n",
       "         'bodi': 42,\n",
       "         'stink': 2,\n",
       "         'come': 148,\n",
       "         'near': 7,\n",
       "         'grown': 4,\n",
       "         'accustom': 1,\n",
       "         'creativ': 36,\n",
       "         'freedom': 8,\n",
       "         'danc': 15,\n",
       "         'play': 38,\n",
       "         'guitar': 3,\n",
       "         'inhibit': 9,\n",
       "         'ear': 10,\n",
       "         'divin': 31,\n",
       "         'quak': 1,\n",
       "         'boat': 3,\n",
       "         'shore': 1,\n",
       "         'run': 58,\n",
       "         'pauli': 1,\n",
       "         'visibl': 3,\n",
       "         'percept': 2,\n",
       "         'perform': 13,\n",
       "         'wouldnt': 8,\n",
       "         'canon': 1,\n",
       "         'mark': 12,\n",
       "         'iii': 1,\n",
       "         'genentech': 1,\n",
       "         'hostil': 29,\n",
       "         'takeov': 1,\n",
       "         'global': 2,\n",
       "         'partner': 7,\n",
       "         'sarah': 1,\n",
       "         'truli': 34,\n",
       "         'list': 16,\n",
       "         'wont': 25,\n",
       "         'marri': 10,\n",
       "         'baptiz': 2,\n",
       "         'honestli': 20,\n",
       "         'atm': 1,\n",
       "         'clever': 27,\n",
       "         'rightli': 1,\n",
       "         'aunt': 3,\n",
       "         'flee': 1,\n",
       "         'damn': 14,\n",
       "         'baltic': 1,\n",
       "         'sea': 5,\n",
       "         'share': 53,\n",
       "         'jolli': 7,\n",
       "         'throng': 1,\n",
       "         'lost': 32,\n",
       "         'fervor': 1,\n",
       "         'green': 7,\n",
       "         'wallet': 2,\n",
       "         'encourag': 5,\n",
       "         'constant': 10,\n",
       "         'barrag': 2,\n",
       "         'angl': 2,\n",
       "         'shop': 17,\n",
       "         'blah': 4,\n",
       "         'lone': 16,\n",
       "         'esili': 1,\n",
       "         'airrit': 1,\n",
       "         'intent': 14,\n",
       "         'easier': 5,\n",
       "         'admit': 34,\n",
       "         'job': 43,\n",
       "         'call': 60,\n",
       "         'sharknado': 1,\n",
       "         'intellig': 23,\n",
       "         'insult': 58,\n",
       "         'blown': 2,\n",
       "         'money': 18,\n",
       "         'meant': 6,\n",
       "         'pay': 14,\n",
       "         'rego': 1,\n",
       "         'told': 39,\n",
       "         'continu': 33,\n",
       "         'frustrat': 64,\n",
       "         'calm': 28,\n",
       "         'disadvantag': 1,\n",
       "         'entertain': 9,\n",
       "         'home': 75,\n",
       "         'opportun': 16,\n",
       "         'familiar': 4,\n",
       "         'natur': 14,\n",
       "         'capabl': 3,\n",
       "         'depress': 18,\n",
       "         'receiv': 15,\n",
       "         'ordin': 1,\n",
       "         'spend': 39,\n",
       "         ...})"
      ]
     },
     "execution_count": 32,
     "metadata": {},
     "output_type": "execute_result"
    }
   ],
   "source": [
    "word_freq"
   ]
  },
  {
   "cell_type": "code",
   "execution_count": 33,
   "id": "d5a0ed83",
   "metadata": {},
   "outputs": [],
   "source": [
    "word_freq_df = pd.DataFrame.from_dict(word_freq, orient='index', columns=['count']).reset_index()\n"
   ]
  },
  {
   "cell_type": "code",
   "execution_count": 34,
   "id": "1a1f032a",
   "metadata": {},
   "outputs": [],
   "source": [
    "word_freq_df = word_freq_df.rename(columns={'index': 'word'})\n"
   ]
  },
  {
   "cell_type": "code",
   "execution_count": 35,
   "id": "8176af7e",
   "metadata": {},
   "outputs": [],
   "source": [
    "word_freq_df = word_freq_df.sort_values(by='count', ascending=False)\n"
   ]
  },
  {
   "cell_type": "code",
   "execution_count": 36,
   "id": "3637c19c",
   "metadata": {},
   "outputs": [
    {
     "data": {
      "text/html": [
       "<div>\n",
       "<style scoped>\n",
       "    .dataframe tbody tr th:only-of-type {\n",
       "        vertical-align: middle;\n",
       "    }\n",
       "\n",
       "    .dataframe tbody tr th {\n",
       "        vertical-align: top;\n",
       "    }\n",
       "\n",
       "    .dataframe thead th {\n",
       "        text-align: right;\n",
       "    }\n",
       "</style>\n",
       "<table border=\"1\" class=\"dataframe\">\n",
       "  <thead>\n",
       "    <tr style=\"text-align: right;\">\n",
       "      <th></th>\n",
       "      <th>word</th>\n",
       "      <th>count</th>\n",
       "    </tr>\n",
       "  </thead>\n",
       "  <tbody>\n",
       "    <tr>\n",
       "      <th>5</th>\n",
       "      <td>feel</td>\n",
       "      <td>6233</td>\n",
       "    </tr>\n",
       "    <tr>\n",
       "      <th>26</th>\n",
       "      <td>like</td>\n",
       "      <td>1013</td>\n",
       "    </tr>\n",
       "    <tr>\n",
       "      <th>8</th>\n",
       "      <td>im</td>\n",
       "      <td>943</td>\n",
       "    </tr>\n",
       "    <tr>\n",
       "      <th>178</th>\n",
       "      <td>get</td>\n",
       "      <td>402</td>\n",
       "    </tr>\n",
       "    <tr>\n",
       "      <th>159</th>\n",
       "      <td>time</td>\n",
       "      <td>360</td>\n",
       "    </tr>\n",
       "    <tr>\n",
       "      <th>...</th>\n",
       "      <td>...</td>\n",
       "      <td>...</td>\n",
       "    </tr>\n",
       "    <tr>\n",
       "      <th>3744</th>\n",
       "      <td>sword</td>\n",
       "      <td>1</td>\n",
       "    </tr>\n",
       "    <tr>\n",
       "      <th>37</th>\n",
       "      <td>becasu</td>\n",
       "      <td>1</td>\n",
       "    </tr>\n",
       "    <tr>\n",
       "      <th>3747</th>\n",
       "      <td>linger</td>\n",
       "      <td>1</td>\n",
       "    </tr>\n",
       "    <tr>\n",
       "      <th>3749</th>\n",
       "      <td>da</td>\n",
       "      <td>1</td>\n",
       "    </tr>\n",
       "    <tr>\n",
       "      <th>6335</th>\n",
       "      <td>urgh</td>\n",
       "      <td>1</td>\n",
       "    </tr>\n",
       "  </tbody>\n",
       "</table>\n",
       "<p>6336 rows × 2 columns</p>\n",
       "</div>"
      ],
      "text/plain": [
       "        word  count\n",
       "5       feel   6233\n",
       "26      like   1013\n",
       "8         im    943\n",
       "178      get    402\n",
       "159     time    360\n",
       "...      ...    ...\n",
       "3744   sword      1\n",
       "37    becasu      1\n",
       "3747  linger      1\n",
       "3749      da      1\n",
       "6335    urgh      1\n",
       "\n",
       "[6336 rows x 2 columns]"
      ]
     },
     "execution_count": 36,
     "metadata": {},
     "output_type": "execute_result"
    }
   ],
   "source": [
    "word_freq_df"
   ]
  },
  {
   "cell_type": "code",
   "execution_count": 37,
   "id": "362ea974",
   "metadata": {},
   "outputs": [
    {
     "data": {
      "text/plain": [
       "<AxesSubplot:xlabel='word', ylabel='count'>"
      ]
     },
     "execution_count": 37,
     "metadata": {},
     "output_type": "execute_result"
    },
    {
     "data": {
      "image/png": "[encoded data removed]",
      "text/plain": [
       "<Figure size 432x288 with 1 Axes>"
      ]
     },
     "metadata": {
      "needs_background": "light"
     },
     "output_type": "display_data"
    }
   ],
   "source": [
    "sns.barplot(x=word_freq_df['word'][:10],y=word_freq_df['count'][:10])"
   ]
  },
  {
   "cell_type": "code",
   "execution_count": 38,
   "id": "70a6278b",
   "metadata": {},
   "outputs": [],
   "source": [
    "le=LabelEncoder()\n"
   ]
  },
  {
   "cell_type": "code",
   "execution_count": 39,
   "id": "2e1f88e5",
   "metadata": {},
   "outputs": [],
   "source": [
    "df['Emotion']=le.fit_transform(df['Emotion'])\n",
    "\n"
   ]
  },
  {
   "cell_type": "code",
   "execution_count": 40,
   "id": "32a79fcb",
   "metadata": {},
   "outputs": [
    {
     "data": {
      "text/html": [
       "<div>\n",
       "<style scoped>\n",
       "    .dataframe tbody tr th:only-of-type {\n",
       "        vertical-align: middle;\n",
       "    }\n",
       "\n",
       "    .dataframe tbody tr th {\n",
       "        vertical-align: top;\n",
       "    }\n",
       "\n",
       "    .dataframe thead th {\n",
       "        text-align: right;\n",
       "    }\n",
       "</style>\n",
       "<table border=\"1\" class=\"dataframe\">\n",
       "  <thead>\n",
       "    <tr style=\"text-align: right;\">\n",
       "      <th></th>\n",
       "      <th>Comment</th>\n",
       "      <th>Emotion</th>\n",
       "    </tr>\n",
       "  </thead>\n",
       "  <tbody>\n",
       "    <tr>\n",
       "      <th>0</th>\n",
       "      <td>serious hate one subject death feel reluct drop</td>\n",
       "      <td>1</td>\n",
       "    </tr>\n",
       "    <tr>\n",
       "      <th>1</th>\n",
       "      <td>im full life feel appal</td>\n",
       "      <td>0</td>\n",
       "    </tr>\n",
       "    <tr>\n",
       "      <th>2</th>\n",
       "      <td>sit write start dig feel think afraid accept p...</td>\n",
       "      <td>1</td>\n",
       "    </tr>\n",
       "    <tr>\n",
       "      <th>3</th>\n",
       "      <td>ive realli angri r feel like idiot trust first...</td>\n",
       "      <td>2</td>\n",
       "    </tr>\n",
       "    <tr>\n",
       "      <th>4</th>\n",
       "      <td>feel suspici one outsid like raptur happen someth</td>\n",
       "      <td>1</td>\n",
       "    </tr>\n",
       "    <tr>\n",
       "      <th>...</th>\n",
       "      <td>...</td>\n",
       "      <td>...</td>\n",
       "    </tr>\n",
       "    <tr>\n",
       "      <th>5932</th>\n",
       "      <td>begun feel distress</td>\n",
       "      <td>1</td>\n",
       "    </tr>\n",
       "    <tr>\n",
       "      <th>5933</th>\n",
       "      <td>left feel annoy angri think center stupid joke</td>\n",
       "      <td>0</td>\n",
       "    </tr>\n",
       "    <tr>\n",
       "      <th>5934</th>\n",
       "      <td>ever get marri everyth readi offer got togeth ...</td>\n",
       "      <td>2</td>\n",
       "    </tr>\n",
       "    <tr>\n",
       "      <th>5935</th>\n",
       "      <td>feel reluct appli want abl find compani know l...</td>\n",
       "      <td>1</td>\n",
       "    </tr>\n",
       "    <tr>\n",
       "      <th>5936</th>\n",
       "      <td>want apolog feel like heartless bitch</td>\n",
       "      <td>0</td>\n",
       "    </tr>\n",
       "  </tbody>\n",
       "</table>\n",
       "<p>5937 rows × 2 columns</p>\n",
       "</div>"
      ],
      "text/plain": [
       "                                                Comment  Emotion\n",
       "0       serious hate one subject death feel reluct drop        1\n",
       "1                               im full life feel appal        0\n",
       "2     sit write start dig feel think afraid accept p...        1\n",
       "3     ive realli angri r feel like idiot trust first...        2\n",
       "4     feel suspici one outsid like raptur happen someth        1\n",
       "...                                                 ...      ...\n",
       "5932                                begun feel distress        1\n",
       "5933     left feel annoy angri think center stupid joke        0\n",
       "5934  ever get marri everyth readi offer got togeth ...        2\n",
       "5935  feel reluct appli want abl find compani know l...        1\n",
       "5936              want apolog feel like heartless bitch        0\n",
       "\n",
       "[5937 rows x 2 columns]"
      ]
     },
     "execution_count": 40,
     "metadata": {},
     "output_type": "execute_result"
    }
   ],
   "source": [
    "df"
   ]
  },
  {
   "cell_type": "code",
   "execution_count": 41,
   "id": "6b49d32b",
   "metadata": {},
   "outputs": [],
   "source": [
    "X=df['Comment']"
   ]
  },
  {
   "cell_type": "code",
   "execution_count": 42,
   "id": "2c739b24",
   "metadata": {},
   "outputs": [],
   "source": [
    "y=df['Emotion']"
   ]
  },
  {
   "cell_type": "code",
   "execution_count": 43,
   "id": "8c548d9d",
   "metadata": {},
   "outputs": [
    {
     "data": {
      "text/plain": [
       "0         serious hate one subject death feel reluct drop\n",
       "1                                 im full life feel appal\n",
       "2       sit write start dig feel think afraid accept p...\n",
       "3       ive realli angri r feel like idiot trust first...\n",
       "4       feel suspici one outsid like raptur happen someth\n",
       "                              ...                        \n",
       "5932                                  begun feel distress\n",
       "5933       left feel annoy angri think center stupid joke\n",
       "5934    ever get marri everyth readi offer got togeth ...\n",
       "5935    feel reluct appli want abl find compani know l...\n",
       "5936                want apolog feel like heartless bitch\n",
       "Name: Comment, Length: 5937, dtype: object"
      ]
     },
     "execution_count": 43,
     "metadata": {},
     "output_type": "execute_result"
    }
   ],
   "source": [
    "X"
   ]
  },
  {
   "cell_type": "code",
   "execution_count": 44,
   "id": "1f4ae835",
   "metadata": {},
   "outputs": [
    {
     "data": {
      "text/plain": [
       "0       1\n",
       "1       0\n",
       "2       1\n",
       "3       2\n",
       "4       1\n",
       "       ..\n",
       "5932    1\n",
       "5933    0\n",
       "5934    2\n",
       "5935    1\n",
       "5936    0\n",
       "Name: Emotion, Length: 5937, dtype: int32"
      ]
     },
     "execution_count": 44,
     "metadata": {},
     "output_type": "execute_result"
    }
   ],
   "source": [
    "y"
   ]
  },
  {
   "cell_type": "code",
   "execution_count": 45,
   "id": "2c1edfb9",
   "metadata": {},
   "outputs": [],
   "source": [
    "X_train, X_test, y_train, y_test = train_test_split(X, y, test_size=0.33, random_state=42)\n"
   ]
  },
  {
   "cell_type": "code",
   "execution_count": 46,
   "id": "aa03b077",
   "metadata": {},
   "outputs": [],
   "source": [
    "tdidf_Vectorizer=TfidfVectorizer(max_features=30000)\n"
   ]
  },
  {
   "cell_type": "code",
   "execution_count": 47,
   "id": "3ea68379",
   "metadata": {},
   "outputs": [
    {
     "data": {
      "text/plain": [
       "TfidfVectorizer(max_features=30000)"
      ]
     },
     "execution_count": 47,
     "metadata": {},
     "output_type": "execute_result"
    }
   ],
   "source": [
    "tdidf_Vectorizer"
   ]
  },
  {
   "cell_type": "code",
   "execution_count": 48,
   "id": "bf93b239",
   "metadata": {},
   "outputs": [],
   "source": [
    "# Fiting and transforming the training data\n"
   ]
  },
  {
   "cell_type": "code",
   "execution_count": 49,
   "id": "16a68b7a",
   "metadata": {},
   "outputs": [],
   "source": [
    "X_train_tfidf=tdidf_Vectorizer.fit_transform(X_train)"
   ]
  },
  {
   "cell_type": "code",
   "execution_count": 50,
   "id": "e21408c0",
   "metadata": {},
   "outputs": [
    {
     "data": {
      "text/plain": [
       "<3977x5064 sparse matrix of type '<class 'numpy.float64'>'\n",
       "\twith 35710 stored elements in Compressed Sparse Row format>"
      ]
     },
     "execution_count": 50,
     "metadata": {},
     "output_type": "execute_result"
    }
   ],
   "source": [
    "X_train_tfidf"
   ]
  },
  {
   "cell_type": "code",
   "execution_count": 51,
   "id": "2a3f8ea1",
   "metadata": {},
   "outputs": [],
   "source": [
    "# Transforming the testing data\n"
   ]
  },
  {
   "cell_type": "code",
   "execution_count": 52,
   "id": "c0c6cde8",
   "metadata": {},
   "outputs": [],
   "source": [
    "X_test_tfidf=tdidf_Vectorizer.transform(X_test)"
   ]
  },
  {
   "cell_type": "code",
   "execution_count": 53,
   "id": "a9237f51",
   "metadata": {},
   "outputs": [
    {
     "data": {
      "text/plain": [
       "<1960x5064 sparse matrix of type '<class 'numpy.float64'>'\n",
       "\twith 16330 stored elements in Compressed Sparse Row format>"
      ]
     },
     "execution_count": 53,
     "metadata": {},
     "output_type": "execute_result"
    }
   ],
   "source": [
    "X_test_tfidf"
   ]
  },
  {
   "cell_type": "markdown",
   "id": "f4732e84",
   "metadata": {},
   "source": [
    "# RandomForestClassifier"
   ]
  },
  {
   "cell_type": "code",
   "execution_count": 54,
   "id": "b11ae2e0",
   "metadata": {},
   "outputs": [],
   "source": [
    "rfc=RandomForestClassifier()\n"
   ]
  },
  {
   "cell_type": "code",
   "execution_count": 55,
   "id": "2c84fcb0",
   "metadata": {},
   "outputs": [
    {
     "data": {
      "text/plain": [
       "RandomForestClassifier()"
      ]
     },
     "execution_count": 55,
     "metadata": {},
     "output_type": "execute_result"
    }
   ],
   "source": [
    "rfc.fit(X_train_tfidf,y_train)"
   ]
  },
  {
   "cell_type": "code",
   "execution_count": 56,
   "id": "eba905d4",
   "metadata": {},
   "outputs": [],
   "source": [
    "y_pred=rfc.predict(X_train_tfidf)\n"
   ]
  },
  {
   "cell_type": "code",
   "execution_count": 57,
   "id": "9f90cf31",
   "metadata": {},
   "outputs": [
    {
     "data": {
      "text/plain": [
       "0.9992456625597184"
      ]
     },
     "execution_count": 57,
     "metadata": {},
     "output_type": "execute_result"
    }
   ],
   "source": [
    "accuracy_score(y_train,y_pred)"
   ]
  },
  {
   "cell_type": "code",
   "execution_count": 58,
   "id": "66ee6b8d",
   "metadata": {},
   "outputs": [],
   "source": [
    "y_pred=rfc.predict(X_test_tfidf)\n"
   ]
  },
  {
   "cell_type": "code",
   "execution_count": 59,
   "id": "24949b7a",
   "metadata": {},
   "outputs": [
    {
     "data": {
      "text/plain": [
       "0.9408163265306122"
      ]
     },
     "execution_count": 59,
     "metadata": {},
     "output_type": "execute_result"
    }
   ],
   "source": [
    "accuracy_score(y_test,y_pred)"
   ]
  },
  {
   "cell_type": "code",
   "execution_count": 60,
   "id": "70b2a0fa",
   "metadata": {},
   "outputs": [],
   "source": [
    "cm=confusion_matrix(y_test,y_pred)"
   ]
  },
  {
   "cell_type": "code",
   "execution_count": 61,
   "id": "8717becd",
   "metadata": {},
   "outputs": [
    {
     "data": {
      "text/plain": [
       "<AxesSubplot:>"
      ]
     },
     "execution_count": 61,
     "metadata": {},
     "output_type": "execute_result"
    },
    {
     "data": {
      "image/png": "[encoded data removed]",
      "text/plain": [
       "<Figure size 432x288 with 2 Axes>"
      ]
     },
     "metadata": {
      "needs_background": "light"
     },
     "output_type": "display_data"
    }
   ],
   "source": [
    "sns.heatmap(data=cm,fmt='d',annot=True)"
   ]
  },
  {
   "cell_type": "code",
   "execution_count": 62,
   "id": "14fbaed0",
   "metadata": {},
   "outputs": [
    {
     "name": "stdout",
     "output_type": "stream",
     "text": [
      "              precision    recall  f1-score   support\n",
      "\n",
      "           0       0.92      0.95      0.94       659\n",
      "           1       0.96      0.92      0.94       669\n",
      "           2       0.95      0.95      0.95       632\n",
      "\n",
      "    accuracy                           0.94      1960\n",
      "   macro avg       0.94      0.94      0.94      1960\n",
      "weighted avg       0.94      0.94      0.94      1960\n",
      "\n"
     ]
    }
   ],
   "source": [
    "print(classification_report(y_test,y_pred))"
   ]
  },
  {
   "cell_type": "code",
   "execution_count": 63,
   "id": "defb0759",
   "metadata": {},
   "outputs": [],
   "source": [
    "def predict_emotion(ele):\n",
    "    ele=[ele]\n",
    "    input_tfidf=tdidf_Vectorizer.transform(ele)\n",
    "    predicted_label=rfc.predict(input_tfidf)\n",
    "    predicted_emotion=le.inverse_transform(predicted_label)\n",
    "    return predicted_emotion"
   ]
  },
  {
   "cell_type": "code",
   "execution_count": 64,
   "id": "ea8196f2",
   "metadata": {},
   "outputs": [
    {
     "name": "stdout",
     "output_type": "stream",
     "text": [
      "Enter a commentthis is bad \n"
     ]
    }
   ],
   "source": [
    "user_input=input(\"Enter a comment\")\n"
   ]
  },
  {
   "cell_type": "code",
   "execution_count": 65,
   "id": "328915f3",
   "metadata": {},
   "outputs": [],
   "source": [
    "emotion=predict_emotion(user_input)\n"
   ]
  },
  {
   "cell_type": "code",
   "execution_count": 66,
   "id": "b71e5046",
   "metadata": {},
   "outputs": [
    {
     "name": "stdout",
     "output_type": "stream",
     "text": [
      "['anger']\n"
     ]
    }
   ],
   "source": [
    "print(emotion)"
   ]
  },
  {
   "cell_type": "markdown",
   "id": "08db668f",
   "metadata": {},
   "source": [
    "# LogisticRegression"
   ]
  },
  {
   "cell_type": "code",
   "execution_count": 67,
   "id": "04dac94f",
   "metadata": {},
   "outputs": [],
   "source": [
    "lr=LogisticRegression()\n",
    "\n"
   ]
  },
  {
   "cell_type": "code",
   "execution_count": 68,
   "id": "ef28f92c",
   "metadata": {},
   "outputs": [
    {
     "data": {
      "text/plain": [
       "LogisticRegression()"
      ]
     },
     "execution_count": 68,
     "metadata": {},
     "output_type": "execute_result"
    }
   ],
   "source": [
    "lr.fit(X_train_tfidf,y_train)"
   ]
  },
  {
   "cell_type": "code",
   "execution_count": 69,
   "id": "a55d4d42",
   "metadata": {},
   "outputs": [],
   "source": [
    "y_pred=lr.predict(X_train_tfidf)\n"
   ]
  },
  {
   "cell_type": "code",
   "execution_count": 70,
   "id": "1f27430e",
   "metadata": {},
   "outputs": [
    {
     "data": {
      "text/plain": [
       "0.9798843349258235"
      ]
     },
     "execution_count": 70,
     "metadata": {},
     "output_type": "execute_result"
    }
   ],
   "source": [
    "accuracy_score(y_train,y_pred)"
   ]
  },
  {
   "cell_type": "code",
   "execution_count": 71,
   "id": "46cd0954",
   "metadata": {},
   "outputs": [],
   "source": [
    "y_pred=lr.predict(X_test_tfidf)\n"
   ]
  },
  {
   "cell_type": "code",
   "execution_count": 72,
   "id": "e52fa8f1",
   "metadata": {},
   "outputs": [
    {
     "data": {
      "text/plain": [
       "0.9198979591836735"
      ]
     },
     "execution_count": 72,
     "metadata": {},
     "output_type": "execute_result"
    }
   ],
   "source": [
    "accuracy_score(y_test,y_pred)"
   ]
  },
  {
   "cell_type": "code",
   "execution_count": 73,
   "id": "c07e5bdc",
   "metadata": {},
   "outputs": [],
   "source": [
    "cm=confusion_matrix(y_test,y_pred)"
   ]
  },
  {
   "cell_type": "code",
   "execution_count": 74,
   "id": "22ef05d9",
   "metadata": {},
   "outputs": [
    {
     "data": {
      "text/plain": [
       "<AxesSubplot:>"
      ]
     },
     "execution_count": 74,
     "metadata": {},
     "output_type": "execute_result"
    },
    {
     "data": {
      "image/png": "[encoded data removed]",
      "text/plain": [
       "<Figure size 432x288 with 2 Axes>"
      ]
     },
     "metadata": {
      "needs_background": "light"
     },
     "output_type": "display_data"
    }
   ],
   "source": [
    "sns.heatmap(data=cm,fmt='d',annot=True)"
   ]
  },
  {
   "cell_type": "code",
   "execution_count": 75,
   "id": "8af0ae04",
   "metadata": {},
   "outputs": [
    {
     "name": "stdout",
     "output_type": "stream",
     "text": [
      "              precision    recall  f1-score   support\n",
      "\n",
      "           0       0.92      0.93      0.93       659\n",
      "           1       0.94      0.88      0.91       669\n",
      "           2       0.90      0.95      0.92       632\n",
      "\n",
      "    accuracy                           0.92      1960\n",
      "   macro avg       0.92      0.92      0.92      1960\n",
      "weighted avg       0.92      0.92      0.92      1960\n",
      "\n"
     ]
    }
   ],
   "source": [
    "print(classification_report(y_test,y_pred))"
   ]
  },
  {
   "cell_type": "code",
   "execution_count": 76,
   "id": "a595fcbb",
   "metadata": {},
   "outputs": [],
   "source": [
    "def predict_emotion(ele):\n",
    "    ele=[ele]\n",
    "    input_tfidf=tdidf_Vectorizer.transform(ele)\n",
    "    predicted_label=lr.predict(input_tfidf)\n",
    "    predicted_emotion=le.inverse_transform(predicted_label)\n",
    "    return predicted_emotion"
   ]
  },
  {
   "cell_type": "code",
   "execution_count": 77,
   "id": "27ff51b0",
   "metadata": {},
   "outputs": [
    {
     "name": "stdout",
     "output_type": "stream",
     "text": [
      "Enter a commentthis is a good movie \n"
     ]
    }
   ],
   "source": [
    "user_input=input(\"Enter a comment\")\n"
   ]
  },
  {
   "cell_type": "code",
   "execution_count": 78,
   "id": "13836d1d",
   "metadata": {},
   "outputs": [],
   "source": [
    "emotion=predict_emotion(user_input)\n"
   ]
  },
  {
   "cell_type": "code",
   "execution_count": 79,
   "id": "e8422a09",
   "metadata": {},
   "outputs": [
    {
     "name": "stdout",
     "output_type": "stream",
     "text": [
      "['joy']\n"
     ]
    }
   ],
   "source": [
    "print(emotion)"
   ]
  },
  {
   "cell_type": "markdown",
   "id": "e84df39b",
   "metadata": {},
   "source": [
    "# KNeighborsClassifier"
   ]
  },
  {
   "cell_type": "code",
   "execution_count": 80,
   "id": "e62f4ec3",
   "metadata": {},
   "outputs": [],
   "source": [
    "knc=KNeighborsClassifier()\n"
   ]
  },
  {
   "cell_type": "code",
   "execution_count": 81,
   "id": "5c1516a8",
   "metadata": {},
   "outputs": [
    {
     "data": {
      "text/plain": [
       "KNeighborsClassifier()"
      ]
     },
     "execution_count": 81,
     "metadata": {},
     "output_type": "execute_result"
    }
   ],
   "source": [
    "knc.fit(X_train_tfidf,y_train)"
   ]
  },
  {
   "cell_type": "code",
   "execution_count": 82,
   "id": "9ea46735",
   "metadata": {},
   "outputs": [],
   "source": [
    "y_pred=knc.predict(X_train_tfidf)\n"
   ]
  },
  {
   "cell_type": "code",
   "execution_count": 83,
   "id": "271a22b4",
   "metadata": {},
   "outputs": [
    {
     "data": {
      "text/plain": [
       "0.8780487804878049"
      ]
     },
     "execution_count": 83,
     "metadata": {},
     "output_type": "execute_result"
    }
   ],
   "source": [
    "accuracy_score(y_train,y_pred)"
   ]
  },
  {
   "cell_type": "code",
   "execution_count": 84,
   "id": "8cfe2a9a",
   "metadata": {},
   "outputs": [],
   "source": [
    "y_pred=knc.predict(X_test_tfidf)\n"
   ]
  },
  {
   "cell_type": "code",
   "execution_count": 85,
   "id": "f71e31f1",
   "metadata": {},
   "outputs": [
    {
     "data": {
      "text/plain": [
       "0.7806122448979592"
      ]
     },
     "execution_count": 85,
     "metadata": {},
     "output_type": "execute_result"
    }
   ],
   "source": [
    "accuracy_score(y_test,y_pred)"
   ]
  },
  {
   "cell_type": "code",
   "execution_count": 86,
   "id": "cbbbd448",
   "metadata": {},
   "outputs": [],
   "source": [
    "cm=confusion_matrix(y_test,y_pred)"
   ]
  },
  {
   "cell_type": "code",
   "execution_count": 87,
   "id": "583f7df2",
   "metadata": {},
   "outputs": [
    {
     "data": {
      "text/plain": [
       "<AxesSubplot:>"
      ]
     },
     "execution_count": 87,
     "metadata": {},
     "output_type": "execute_result"
    },
    {
     "data": {
      "image/png": "[encoded data removed]",
      "text/plain": [
       "<Figure size 432x288 with 2 Axes>"
      ]
     },
     "metadata": {
      "needs_background": "light"
     },
     "output_type": "display_data"
    }
   ],
   "source": [
    "sns.heatmap(data=cm,fmt='d',annot=True)"
   ]
  },
  {
   "cell_type": "code",
   "execution_count": 88,
   "id": "1a332b2c",
   "metadata": {},
   "outputs": [
    {
     "name": "stdout",
     "output_type": "stream",
     "text": [
      "              precision    recall  f1-score   support\n",
      "\n",
      "           0       0.72      0.88      0.79       659\n",
      "           1       0.78      0.76      0.77       669\n",
      "           2       0.88      0.70      0.78       632\n",
      "\n",
      "    accuracy                           0.78      1960\n",
      "   macro avg       0.79      0.78      0.78      1960\n",
      "weighted avg       0.79      0.78      0.78      1960\n",
      "\n"
     ]
    }
   ],
   "source": [
    "print(classification_report(y_test,y_pred))"
   ]
  },
  {
   "cell_type": "code",
   "execution_count": 89,
   "id": "8e62100d",
   "metadata": {},
   "outputs": [],
   "source": [
    "def predict_emotion(ele):\n",
    "    ele=[ele]\n",
    "    input_tfidf=tdidf_Vectorizer.transform(ele)\n",
    "    predicted_label=knc.predict(input_tfidf)\n",
    "    predicted_emotion=le.inverse_transform(predicted_label)\n",
    "    return predicted_emotion"
   ]
  },
  {
   "cell_type": "code",
   "execution_count": 90,
   "id": "f7f404d3",
   "metadata": {},
   "outputs": [
    {
     "name": "stdout",
     "output_type": "stream",
     "text": [
      "Enter a commenti will not come again\n"
     ]
    }
   ],
   "source": [
    "user_input=input(\"Enter a comment\")\n"
   ]
  },
  {
   "cell_type": "code",
   "execution_count": 91,
   "id": "e8075a3d",
   "metadata": {},
   "outputs": [],
   "source": [
    "emotion=predict_emotion(user_input)\n"
   ]
  },
  {
   "cell_type": "code",
   "execution_count": 92,
   "id": "dbd2dfd4",
   "metadata": {},
   "outputs": [
    {
     "name": "stdout",
     "output_type": "stream",
     "text": [
      "['anger']\n"
     ]
    }
   ],
   "source": [
    "print(emotion)"
   ]
  },
  {
   "cell_type": "markdown",
   "id": "83da3889",
   "metadata": {},
   "source": [
    "# XGBClassifier"
   ]
  },
  {
   "cell_type": "code",
   "execution_count": 93,
   "id": "5885bc42",
   "metadata": {},
   "outputs": [],
   "source": [
    "xgb_i=xgb.XGBClassifier()"
   ]
  },
  {
   "cell_type": "code",
   "execution_count": 94,
   "id": "4e3de2df",
   "metadata": {},
   "outputs": [
    {
     "data": {
      "text/plain": [
       "XGBClassifier(base_score=None, booster=None, callbacks=None,\n",
       "              colsample_bylevel=None, colsample_bynode=None,\n",
       "              colsample_bytree=None, early_stopping_rounds=None,\n",
       "              enable_categorical=False, eval_metric=None, feature_types=None,\n",
       "              gamma=None, gpu_id=None, grow_policy=None, importance_type=None,\n",
       "              interaction_constraints=None, learning_rate=None, max_bin=None,\n",
       "              max_cat_threshold=None, max_cat_to_onehot=None,\n",
       "              max_delta_step=None, max_depth=None, max_leaves=None,\n",
       "              min_child_weight=None, missing=nan, monotone_constraints=None,\n",
       "              n_estimators=100, n_jobs=None, num_parallel_tree=None,\n",
       "              objective='multi:softprob', predictor=None, ...)"
      ]
     },
     "execution_count": 94,
     "metadata": {},
     "output_type": "execute_result"
    }
   ],
   "source": [
    "xgb_i.fit(X_train_tfidf,y_train)"
   ]
  },
  {
   "cell_type": "code",
   "execution_count": 95,
   "id": "355aaa3b",
   "metadata": {},
   "outputs": [],
   "source": [
    "y_pred=xgb_i.predict(X_train_tfidf)\n"
   ]
  },
  {
   "cell_type": "code",
   "execution_count": 96,
   "id": "70b3d14d",
   "metadata": {},
   "outputs": [
    {
     "data": {
      "text/plain": [
       "0.9751068644707066"
      ]
     },
     "execution_count": 96,
     "metadata": {},
     "output_type": "execute_result"
    }
   ],
   "source": [
    "accuracy_score(y_train,y_pred)"
   ]
  },
  {
   "cell_type": "code",
   "execution_count": 97,
   "id": "f1deb415",
   "metadata": {},
   "outputs": [],
   "source": [
    "y_pred=xgb_i.predict(X_test_tfidf)\n"
   ]
  },
  {
   "cell_type": "code",
   "execution_count": 98,
   "id": "c07e537c",
   "metadata": {},
   "outputs": [
    {
     "data": {
      "text/plain": [
       "0.936734693877551"
      ]
     },
     "execution_count": 98,
     "metadata": {},
     "output_type": "execute_result"
    }
   ],
   "source": [
    "accuracy_score(y_test,y_pred)"
   ]
  },
  {
   "cell_type": "code",
   "execution_count": 99,
   "id": "1976d1a0",
   "metadata": {},
   "outputs": [],
   "source": [
    "cm=confusion_matrix(y_test,y_pred)"
   ]
  },
  {
   "cell_type": "code",
   "execution_count": 100,
   "id": "1bf501fb",
   "metadata": {},
   "outputs": [
    {
     "data": {
      "text/plain": [
       "<AxesSubplot:>"
      ]
     },
     "execution_count": 100,
     "metadata": {},
     "output_type": "execute_result"
    },
    {
     "data": {
      "image/png": "[encoded data removed]",
      "text/plain": [
       "<Figure size 432x288 with 2 Axes>"
      ]
     },
     "metadata": {
      "needs_background": "light"
     },
     "output_type": "display_data"
    }
   ],
   "source": [
    "sns.heatmap(data=cm,fmt='d',annot=True)"
   ]
  },
  {
   "cell_type": "code",
   "execution_count": 101,
   "id": "eb3368ea",
   "metadata": {},
   "outputs": [
    {
     "name": "stdout",
     "output_type": "stream",
     "text": [
      "              precision    recall  f1-score   support\n",
      "\n",
      "           0       0.91      0.96      0.93       659\n",
      "           1       0.96      0.90      0.93       669\n",
      "           2       0.95      0.95      0.95       632\n",
      "\n",
      "    accuracy                           0.94      1960\n",
      "   macro avg       0.94      0.94      0.94      1960\n",
      "weighted avg       0.94      0.94      0.94      1960\n",
      "\n"
     ]
    }
   ],
   "source": [
    "print(classification_report(y_test,y_pred))"
   ]
  },
  {
   "cell_type": "code",
   "execution_count": 102,
   "id": "55106896",
   "metadata": {},
   "outputs": [],
   "source": [
    "def predict_emotion(ele):\n",
    "    ele=[ele]\n",
    "    input_tfidf=tdidf_Vectorizer.transform(ele)\n",
    "    predicted_label=xgb_i.predict(input_tfidf)\n",
    "    predicted_emotion=le.inverse_transform(predicted_label)\n",
    "    return predicted_emotion"
   ]
  },
  {
   "cell_type": "code",
   "execution_count": 103,
   "id": "300ee42e",
   "metadata": {},
   "outputs": [
    {
     "name": "stdout",
     "output_type": "stream",
     "text": [
      "Enter a commentthis is a eye opening for all\n"
     ]
    }
   ],
   "source": [
    "user_input=input(\"Enter a comment\")\n"
   ]
  },
  {
   "cell_type": "code",
   "execution_count": 104,
   "id": "a68a2d95",
   "metadata": {},
   "outputs": [],
   "source": [
    "emotion=predict_emotion(user_input)\n"
   ]
  },
  {
   "cell_type": "code",
   "execution_count": 105,
   "id": "2af465ab",
   "metadata": {},
   "outputs": [
    {
     "name": "stdout",
     "output_type": "stream",
     "text": [
      "['anger']\n"
     ]
    }
   ],
   "source": [
    "print(emotion)"
   ]
  },
  {
   "cell_type": "code",
   "execution_count": null,
   "id": "1a993313",
   "metadata": {},
   "outputs": [],
   "source": []
  }
 ],
 "metadata": {
  "kernelspec": {
   "display_name": "Python 3 (ipykernel)",
   "language": "python",
   "name": "python3"
  },
  "language_info": {
   "codemirror_mode": {
    "name": "ipython",
    "version": 3
   },
   "file_extension": ".py",
   "mimetype": "text/x-python",
   "name": "python",
   "nbconvert_exporter": "python",
   "pygments_lexer": "ipython3",
   "version": "3.9.12"
  }
 },
 "nbformat": 4,
 "nbformat_minor": 5
}
