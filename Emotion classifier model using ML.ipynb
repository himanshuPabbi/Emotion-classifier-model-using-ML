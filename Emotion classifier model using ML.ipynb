{
 "cells": [
  {
   "cell_type": "code",
   "execution_count": 1,
   "id": "1b229fe3",
   "metadata": {},
   "outputs": [],
   "source": [
    "import pandas as pd"
   ]
  },
  {
   "cell_type": "code",
   "execution_count": 2,
   "id": "630de815",
   "metadata": {},
   "outputs": [],
   "source": [
    "import numpy as np"
   ]
  },
  {
   "cell_type": "code",
   "execution_count": 3,
   "id": "c58bd9f1",
   "metadata": {},
   "outputs": [],
   "source": [
    "import matplotlib.pyplot as plt"
   ]
  },
  {
   "cell_type": "code",
   "execution_count": 4,
   "id": "73c8586e",
   "metadata": {},
   "outputs": [],
   "source": [
    "from sklearn.preprocessing import LabelEncoder"
   ]
  },
  {
   "cell_type": "code",
   "execution_count": 5,
   "id": "8dd1be2c",
   "metadata": {},
   "outputs": [],
   "source": [
    "from sklearn.feature_extraction.text import TfidfVectorizer"
   ]
  },
  {
   "cell_type": "code",
   "execution_count": 6,
   "id": "0b55b3e8",
   "metadata": {},
   "outputs": [],
   "source": [
    "from sklearn.model_selection import train_test_split"
   ]
  },
  {
   "cell_type": "code",
   "execution_count": 7,
   "id": "3f6a8760",
   "metadata": {},
   "outputs": [],
   "source": [
    "from sklearn.ensemble import RandomForestClassifier"
   ]
  },
  {
   "cell_type": "code",
   "execution_count": 8,
   "id": "bbe7b785",
   "metadata": {},
   "outputs": [],
   "source": [
    "from sklearn.metrics import accuracy_score,confusion_matrix,classification_report"
   ]
  },
  {
   "cell_type": "code",
   "execution_count": 9,
   "id": "e57811c6",
   "metadata": {},
   "outputs": [],
   "source": [
    "import seaborn as sns"
   ]
  },
  {
   "cell_type": "code",
   "execution_count": 10,
   "id": "d5a56294",
   "metadata": {},
   "outputs": [],
   "source": [
    "from wordcloud import WordCloud"
   ]
  },
  {
   "cell_type": "code",
   "execution_count": 11,
   "id": "96c7f04d",
   "metadata": {},
   "outputs": [],
   "source": [
    "from collections import Counter"
   ]
  },
  {
   "cell_type": "code",
   "execution_count": 12,
   "id": "0c604cd2",
   "metadata": {},
   "outputs": [],
   "source": [
    "from sklearn.linear_model import LogisticRegression "
   ]
  },
  {
   "cell_type": "code",
   "execution_count": 13,
   "id": "1f0e67f4",
   "metadata": {},
   "outputs": [],
   "source": [
    "from sklearn.neighbors import KNeighborsClassifier"
   ]
  },
  {
   "cell_type": "code",
   "execution_count": 14,
   "id": "d56e790c",
   "metadata": {},
   "outputs": [],
   "source": [
    "import xgboost as xgb"
   ]
  },
  {
   "cell_type": "code",
   "execution_count": 15,
   "id": "2529e73b",
   "metadata": {},
   "outputs": [],
   "source": [
    "import nltk"
   ]
  },
  {
   "cell_type": "code",
   "execution_count": 16,
   "id": "ab3fbc7f",
   "metadata": {},
   "outputs": [],
   "source": [
    "from nltk.corpus import stopwords"
   ]
  },
  {
   "cell_type": "code",
   "execution_count": 17,
   "id": "2569737d",
   "metadata": {},
   "outputs": [],
   "source": [
    "df=pd.read_csv(\"Emotion_classify_Data.csv\")\n"
   ]
  },
  {
   "cell_type": "code",
   "execution_count": 18,
   "id": "fa6f3595",
   "metadata": {},
   "outputs": [
    {
     "data": {
      "text/html": [
       "<div>\n",
       "<style scoped>\n",
       "    .dataframe tbody tr th:only-of-type {\n",
       "        vertical-align: middle;\n",
       "    }\n",
       "\n",
       "    .dataframe tbody tr th {\n",
       "        vertical-align: top;\n",
       "    }\n",
       "\n",
       "    .dataframe thead th {\n",
       "        text-align: right;\n",
       "    }\n",
       "</style>\n",
       "<table border=\"1\" class=\"dataframe\">\n",
       "  <thead>\n",
       "    <tr style=\"text-align: right;\">\n",
       "      <th></th>\n",
       "      <th>Comment</th>\n",
       "      <th>Emotion</th>\n",
       "    </tr>\n",
       "  </thead>\n",
       "  <tbody>\n",
       "    <tr>\n",
       "      <th>0</th>\n",
       "      <td>i seriously hate one subject to death but now ...</td>\n",
       "      <td>fear</td>\n",
       "    </tr>\n",
       "    <tr>\n",
       "      <th>1</th>\n",
       "      <td>im so full of life i feel appalled</td>\n",
       "      <td>anger</td>\n",
       "    </tr>\n",
       "    <tr>\n",
       "      <th>2</th>\n",
       "      <td>i sit here to write i start to dig out my feel...</td>\n",
       "      <td>fear</td>\n",
       "    </tr>\n",
       "    <tr>\n",
       "      <th>3</th>\n",
       "      <td>ive been really angry with r and i feel like a...</td>\n",
       "      <td>joy</td>\n",
       "    </tr>\n",
       "    <tr>\n",
       "      <th>4</th>\n",
       "      <td>i feel suspicious if there is no one outside l...</td>\n",
       "      <td>fear</td>\n",
       "    </tr>\n",
       "    <tr>\n",
       "      <th>...</th>\n",
       "      <td>...</td>\n",
       "      <td>...</td>\n",
       "    </tr>\n",
       "    <tr>\n",
       "      <th>5932</th>\n",
       "      <td>i begun to feel distressed for you</td>\n",
       "      <td>fear</td>\n",
       "    </tr>\n",
       "    <tr>\n",
       "      <th>5933</th>\n",
       "      <td>i left feeling annoyed and angry thinking that...</td>\n",
       "      <td>anger</td>\n",
       "    </tr>\n",
       "    <tr>\n",
       "      <th>5934</th>\n",
       "      <td>i were to ever get married i d have everything...</td>\n",
       "      <td>joy</td>\n",
       "    </tr>\n",
       "    <tr>\n",
       "      <th>5935</th>\n",
       "      <td>i feel reluctant in applying there because i w...</td>\n",
       "      <td>fear</td>\n",
       "    </tr>\n",
       "    <tr>\n",
       "      <th>5936</th>\n",
       "      <td>i just wanted to apologize to you because i fe...</td>\n",
       "      <td>anger</td>\n",
       "    </tr>\n",
       "  </tbody>\n",
       "</table>\n",
       "<p>5937 rows × 2 columns</p>\n",
       "</div>"
      ],
      "text/plain": [
       "                                                Comment Emotion\n",
       "0     i seriously hate one subject to death but now ...    fear\n",
       "1                    im so full of life i feel appalled   anger\n",
       "2     i sit here to write i start to dig out my feel...    fear\n",
       "3     ive been really angry with r and i feel like a...     joy\n",
       "4     i feel suspicious if there is no one outside l...    fear\n",
       "...                                                 ...     ...\n",
       "5932                 i begun to feel distressed for you    fear\n",
       "5933  i left feeling annoyed and angry thinking that...   anger\n",
       "5934  i were to ever get married i d have everything...     joy\n",
       "5935  i feel reluctant in applying there because i w...    fear\n",
       "5936  i just wanted to apologize to you because i fe...   anger\n",
       "\n",
       "[5937 rows x 2 columns]"
      ]
     },
     "execution_count": 18,
     "metadata": {},
     "output_type": "execute_result"
    }
   ],
   "source": [
    "df"
   ]
  },
  {
   "cell_type": "code",
   "execution_count": 19,
   "id": "24743402",
   "metadata": {},
   "outputs": [
    {
     "name": "stdout",
     "output_type": "stream",
     "text": [
      "<class 'pandas.core.frame.DataFrame'>\n",
      "RangeIndex: 5937 entries, 0 to 5936\n",
      "Data columns (total 2 columns):\n",
      " #   Column   Non-Null Count  Dtype \n",
      "---  ------   --------------  ----- \n",
      " 0   Comment  5937 non-null   object\n",
      " 1   Emotion  5937 non-null   object\n",
      "dtypes: object(2)\n",
      "memory usage: 92.9+ KB\n"
     ]
    }
   ],
   "source": [
    "df.info()"
   ]
  },
  {
   "cell_type": "code",
   "execution_count": 20,
   "id": "5572a696",
   "metadata": {},
   "outputs": [
    {
     "data": {
      "text/html": [
       "<div>\n",
       "<style scoped>\n",
       "    .dataframe tbody tr th:only-of-type {\n",
       "        vertical-align: middle;\n",
       "    }\n",
       "\n",
       "    .dataframe tbody tr th {\n",
       "        vertical-align: top;\n",
       "    }\n",
       "\n",
       "    .dataframe thead th {\n",
       "        text-align: right;\n",
       "    }\n",
       "</style>\n",
       "<table border=\"1\" class=\"dataframe\">\n",
       "  <thead>\n",
       "    <tr style=\"text-align: right;\">\n",
       "      <th></th>\n",
       "      <th>Comment</th>\n",
       "      <th>Emotion</th>\n",
       "    </tr>\n",
       "  </thead>\n",
       "  <tbody>\n",
       "    <tr>\n",
       "      <th>count</th>\n",
       "      <td>5937</td>\n",
       "      <td>5937</td>\n",
       "    </tr>\n",
       "    <tr>\n",
       "      <th>unique</th>\n",
       "      <td>5934</td>\n",
       "      <td>3</td>\n",
       "    </tr>\n",
       "    <tr>\n",
       "      <th>top</th>\n",
       "      <td>i feel like a tortured artist when i talk to her</td>\n",
       "      <td>anger</td>\n",
       "    </tr>\n",
       "    <tr>\n",
       "      <th>freq</th>\n",
       "      <td>2</td>\n",
       "      <td>2000</td>\n",
       "    </tr>\n",
       "  </tbody>\n",
       "</table>\n",
       "</div>"
      ],
      "text/plain": [
       "                                                 Comment Emotion\n",
       "count                                               5937    5937\n",
       "unique                                              5934       3\n",
       "top     i feel like a tortured artist when i talk to her   anger\n",
       "freq                                                   2    2000"
      ]
     },
     "execution_count": 20,
     "metadata": {},
     "output_type": "execute_result"
    }
   ],
   "source": [
    "df.describe(include=\"all\")"
   ]
  },
  {
   "cell_type": "code",
   "execution_count": 21,
   "id": "6a521c30",
   "metadata": {},
   "outputs": [
    {
     "data": {
      "text/plain": [
       "Index(['Comment', 'Emotion'], dtype='object')"
      ]
     },
     "execution_count": 21,
     "metadata": {},
     "output_type": "execute_result"
    }
   ],
   "source": [
    "df.columns"
   ]
  },
  {
   "cell_type": "code",
   "execution_count": 22,
   "id": "b8923d44",
   "metadata": {},
   "outputs": [
    {
     "data": {
      "text/plain": [
       "(5937, 2)"
      ]
     },
     "execution_count": 22,
     "metadata": {},
     "output_type": "execute_result"
    }
   ],
   "source": [
    "df.shape"
   ]
  },
  {
   "cell_type": "code",
   "execution_count": 23,
   "id": "ec2820a2",
   "metadata": {
    "scrolled": false
   },
   "outputs": [
    {
     "data": {
      "image/png": "[encoded data removed]",
      "text/plain": [
       "<Figure size 720x360 with 1 Axes>"
      ]
     },
     "metadata": {
      "needs_background": "light"
     },
     "output_type": "display_data"
    }
   ],
   "source": [
    "wordcloud = WordCloud(width=800, height=400, background_color='white').generate(' '.join(df['Comment']))\n",
    "\n",
    "# Show the word cloud\n",
    "plt.figure(figsize=(10, 5))\n",
    "plt.imshow(wordcloud, interpolation='bilinear')\n",
    "plt.axis('off')\n",
    "plt.show()"
   ]
  },
  {
   "cell_type": "code",
   "execution_count": 24,
   "id": "9054f00b",
   "metadata": {},
   "outputs": [
    {
     "name": "stderr",
     "output_type": "stream",
     "text": [
      "[nltk_data] Downloading package stopwords to\n",
      "[nltk_data]     C:\\Users\\himanshu\\AppData\\Roaming\\nltk_data...\n",
      "[nltk_data]   Package stopwords is already up-to-date!\n"
     ]
    },
    {
     "data": {
      "text/plain": [
       "True"
      ]
     },
     "execution_count": 24,
     "metadata": {},
     "output_type": "execute_result"
    }
   ],
   "source": [
    "nltk.download('stopwords')"
   ]
  },
  {
   "cell_type": "code",
   "execution_count": 25,
   "id": "9e4361fc",
   "metadata": {},
   "outputs": [],
   "source": [
    "stop_words = set(stopwords.words('english'))\n"
   ]
  },
  {
   "cell_type": "code",
   "execution_count": 26,
   "id": "37ebfe4c",
   "metadata": {},
   "outputs": [],
   "source": [
    "def RemoveStopWords(ele):\n",
    "    lis=ele.split()\n",
    "    result=[]\n",
    "    \n",
    "    for i in lis:\n",
    "        if i not in stop_words:\n",
    "            result.append(i)\n",
    "    \n",
    "    return \" \".join(result)\n",
    "    "
   ]
  },
  {
   "cell_type": "code",
   "execution_count": 27,
   "id": "fd9884cc",
   "metadata": {},
   "outputs": [],
   "source": [
    "df['Comment']=df['Comment'].apply(RemoveStopWords)"
   ]
  },
  {
   "cell_type": "code",
   "execution_count": 28,
   "id": "6c8bfcc4",
   "metadata": {},
   "outputs": [
    {
     "data": {
      "text/html": [
       "<div>\n",
       "<style scoped>\n",
       "    .dataframe tbody tr th:only-of-type {\n",
       "        vertical-align: middle;\n",
       "    }\n",
       "\n",
       "    .dataframe tbody tr th {\n",
       "        vertical-align: top;\n",
       "    }\n",
       "\n",
       "    .dataframe thead th {\n",
       "        text-align: right;\n",
       "    }\n",
       "</style>\n",
       "<table border=\"1\" class=\"dataframe\">\n",
       "  <thead>\n",
       "    <tr style=\"text-align: right;\">\n",
       "      <th></th>\n",
       "      <th>Comment</th>\n",
       "      <th>Emotion</th>\n",
       "    </tr>\n",
       "  </thead>\n",
       "  <tbody>\n",
       "    <tr>\n",
       "      <th>0</th>\n",
       "      <td>seriously hate one subject death feel reluctan...</td>\n",
       "      <td>fear</td>\n",
       "    </tr>\n",
       "    <tr>\n",
       "      <th>1</th>\n",
       "      <td>im full life feel appalled</td>\n",
       "      <td>anger</td>\n",
       "    </tr>\n",
       "    <tr>\n",
       "      <th>2</th>\n",
       "      <td>sit write start dig feelings think afraid acce...</td>\n",
       "      <td>fear</td>\n",
       "    </tr>\n",
       "    <tr>\n",
       "      <th>3</th>\n",
       "      <td>ive really angry r feel like idiot trusting fi...</td>\n",
       "      <td>joy</td>\n",
       "    </tr>\n",
       "    <tr>\n",
       "      <th>4</th>\n",
       "      <td>feel suspicious one outside like rapture happe...</td>\n",
       "      <td>fear</td>\n",
       "    </tr>\n",
       "    <tr>\n",
       "      <th>...</th>\n",
       "      <td>...</td>\n",
       "      <td>...</td>\n",
       "    </tr>\n",
       "    <tr>\n",
       "      <th>5932</th>\n",
       "      <td>begun feel distressed</td>\n",
       "      <td>fear</td>\n",
       "    </tr>\n",
       "    <tr>\n",
       "      <th>5933</th>\n",
       "      <td>left feeling annoyed angry thinking center stu...</td>\n",
       "      <td>anger</td>\n",
       "    </tr>\n",
       "    <tr>\n",
       "      <th>5934</th>\n",
       "      <td>ever get married everything ready offer got to...</td>\n",
       "      <td>joy</td>\n",
       "    </tr>\n",
       "    <tr>\n",
       "      <th>5935</th>\n",
       "      <td>feel reluctant applying want able find company...</td>\n",
       "      <td>fear</td>\n",
       "    </tr>\n",
       "    <tr>\n",
       "      <th>5936</th>\n",
       "      <td>wanted apologize feel like heartless bitch</td>\n",
       "      <td>anger</td>\n",
       "    </tr>\n",
       "  </tbody>\n",
       "</table>\n",
       "<p>5937 rows × 2 columns</p>\n",
       "</div>"
      ],
      "text/plain": [
       "                                                Comment Emotion\n",
       "0     seriously hate one subject death feel reluctan...    fear\n",
       "1                            im full life feel appalled   anger\n",
       "2     sit write start dig feelings think afraid acce...    fear\n",
       "3     ive really angry r feel like idiot trusting fi...     joy\n",
       "4     feel suspicious one outside like rapture happe...    fear\n",
       "...                                                 ...     ...\n",
       "5932                              begun feel distressed    fear\n",
       "5933  left feeling annoyed angry thinking center stu...   anger\n",
       "5934  ever get married everything ready offer got to...     joy\n",
       "5935  feel reluctant applying want able find company...    fear\n",
       "5936         wanted apologize feel like heartless bitch   anger\n",
       "\n",
       "[5937 rows x 2 columns]"
      ]
     },
     "execution_count": 28,
     "metadata": {},
     "output_type": "execute_result"
    }
   ],
   "source": [
    "df"
   ]
  },
  {
   "cell_type": "code",
   "execution_count": 29,
   "id": "d37d621e",
   "metadata": {},
   "outputs": [],
   "source": [
    "word_freq = Counter(' '.join(df['Comment']).split())\n"
   ]
  },
  {
   "cell_type": "code",
   "execution_count": 30,
   "id": "d3bae2f1",
   "metadata": {},
   "outputs": [
    {
     "data": {
      "text/plain": [
       "Counter({'seriously': 18,\n",
       "         'hate': 53,\n",
       "         'one': 210,\n",
       "         'subject': 6,\n",
       "         'death': 10,\n",
       "         'feel': 4047,\n",
       "         'reluctant': 59,\n",
       "         'drop': 7,\n",
       "         'im': 943,\n",
       "         'full': 25,\n",
       "         'life': 178,\n",
       "         'appalled': 10,\n",
       "         'sit': 29,\n",
       "         'write': 71,\n",
       "         'start': 63,\n",
       "         'dig': 3,\n",
       "         'feelings': 104,\n",
       "         'think': 216,\n",
       "         'afraid': 77,\n",
       "         'accept': 10,\n",
       "         'possibility': 7,\n",
       "         'might': 57,\n",
       "         'make': 183,\n",
       "         'ive': 199,\n",
       "         'really': 323,\n",
       "         'angry': 92,\n",
       "         'r': 6,\n",
       "         'like': 992,\n",
       "         'idiot': 7,\n",
       "         'trusting': 19,\n",
       "         'first': 77,\n",
       "         'place': 57,\n",
       "         'suspicious': 30,\n",
       "         'outside': 18,\n",
       "         'rapture': 1,\n",
       "         'happened': 25,\n",
       "         'something': 193,\n",
       "         'jealous': 50,\n",
       "         'becasue': 1,\n",
       "         'wanted': 50,\n",
       "         'kind': 76,\n",
       "         'love': 145,\n",
       "         'true': 16,\n",
       "         'connection': 8,\n",
       "         'two': 52,\n",
       "         'souls': 2,\n",
       "         'friend': 57,\n",
       "         'mine': 20,\n",
       "         'keeps': 11,\n",
       "         'telling': 17,\n",
       "         'morbid': 2,\n",
       "         'things': 187,\n",
       "         'dog': 5,\n",
       "         'finally': 20,\n",
       "         'fell': 1,\n",
       "         'asleep': 6,\n",
       "         'feeling': 1964,\n",
       "         'useless': 4,\n",
       "         'still': 207,\n",
       "         'anxiety': 14,\n",
       "         'bit': 220,\n",
       "         'annoyed': 56,\n",
       "         'antsy': 5,\n",
       "         'good': 130,\n",
       "         'way': 198,\n",
       "         'regained': 1,\n",
       "         'another': 54,\n",
       "         'vital': 15,\n",
       "         'part': 57,\n",
       "         'living': 27,\n",
       "         'franz': 1,\n",
       "         'liebkind': 1,\n",
       "         'producers': 1,\n",
       "         'many': 71,\n",
       "         'people': 265,\n",
       "         'know': 315,\n",
       "         'fuhrer': 1,\n",
       "         'terrific': 14,\n",
       "         'dancer': 1,\n",
       "         'didnt': 95,\n",
       "         'want': 267,\n",
       "         'move': 22,\n",
       "         'much': 167,\n",
       "         'glad': 30,\n",
       "         'experience': 22,\n",
       "         'glimpse': 3,\n",
       "         'sort': 30,\n",
       "         'vibrant': 3,\n",
       "         'energy': 29,\n",
       "         'gain': 4,\n",
       "         'year': 57,\n",
       "         'bitten': 3,\n",
       "         'always': 125,\n",
       "         'find': 84,\n",
       "         'thankful': 31,\n",
       "         'years': 53,\n",
       "         'gathered': 1,\n",
       "         'tricks': 1,\n",
       "         'allow': 12,\n",
       "         'grateful': 21,\n",
       "         'face': 38,\n",
       "         'moments': 13,\n",
       "         'last': 70,\n",
       "         'thing': 75,\n",
       "         'say': 117,\n",
       "         'thanks': 7,\n",
       "         'try': 58,\n",
       "         'talk': 53,\n",
       "         'anyone': 52,\n",
       "         'irritable': 68,\n",
       "         'hated': 53,\n",
       "         'since': 59,\n",
       "         'dont': 186,\n",
       "         'wrote': 14,\n",
       "         'following': 7,\n",
       "         'little': 326,\n",
       "         'note': 3,\n",
       "         'today': 115,\n",
       "         'u': 12,\n",
       "         'offended': 55,\n",
       "         'posting': 13,\n",
       "         'obviously': 10,\n",
       "         'lived': 7,\n",
       "         'long': 66,\n",
       "         'enough': 99,\n",
       "         'compromised': 2,\n",
       "         'act': 15,\n",
       "         'believe': 39,\n",
       "         'choose': 8,\n",
       "         'tell': 53,\n",
       "         'guys': 25,\n",
       "         'treated': 6,\n",
       "         'friends': 60,\n",
       "         'would': 220,\n",
       "         'put': 48,\n",
       "         'stop': 59,\n",
       "         'nonsense': 3,\n",
       "         'remember': 77,\n",
       "         'belong': 10,\n",
       "         'smart': 21,\n",
       "         'cool': 13,\n",
       "         'even': 214,\n",
       "         'young': 17,\n",
       "         'redeem': 2,\n",
       "         'though': 103,\n",
       "         'realized': 23,\n",
       "         'distraught': 26,\n",
       "         'ok': 33,\n",
       "         'hope': 56,\n",
       "         'next': 44,\n",
       "         'quote': 8,\n",
       "         'able': 68,\n",
       "         'let': 57,\n",
       "         'special': 33,\n",
       "         'someone': 99,\n",
       "         'knows': 6,\n",
       "         'insecure': 58,\n",
       "         'understand': 39,\n",
       "         'matter': 19,\n",
       "         'trust': 21,\n",
       "         'better': 73,\n",
       "         'without': 78,\n",
       "         'help': 106,\n",
       "         'ice': 5,\n",
       "         'sitting': 21,\n",
       "         'typing': 7,\n",
       "         'wondering': 11,\n",
       "         'distracted': 47,\n",
       "         'comfortable': 36,\n",
       "         'misunderstood': 2,\n",
       "         'hurt': 35,\n",
       "         'shaky': 48,\n",
       "         'times': 62,\n",
       "         'slightly': 44,\n",
       "         'odd': 4,\n",
       "         'jades': 1,\n",
       "         'hair': 24,\n",
       "         'particular': 8,\n",
       "         'seems': 24,\n",
       "         'prone': 2,\n",
       "         'generally': 18,\n",
       "         'works': 9,\n",
       "         'well': 105,\n",
       "         'spencers': 1,\n",
       "         'writing': 44,\n",
       "         'stropped': 1,\n",
       "         'grumpy': 37,\n",
       "         'missing': 9,\n",
       "         'shall': 3,\n",
       "         'go': 152,\n",
       "         'mad': 56,\n",
       "         'happpy': 1,\n",
       "         'get': 292,\n",
       "         'results': 15,\n",
       "         'field': 5,\n",
       "         'academics': 1,\n",
       "         'athletics': 1,\n",
       "         'got': 101,\n",
       "         'brig': 1,\n",
       "         'sincere': 23,\n",
       "         'strong': 44,\n",
       "         'desire': 14,\n",
       "         'others': 56,\n",
       "         'become': 39,\n",
       "         'successful': 27,\n",
       "         'financially': 3,\n",
       "         'also': 134,\n",
       "         'building': 6,\n",
       "         'strengthening': 2,\n",
       "         'relationships': 9,\n",
       "         'christianity': 2,\n",
       "         'deeply': 15,\n",
       "         'overwhelmed': 65,\n",
       "         'ordinary': 2,\n",
       "         'tasks': 5,\n",
       "         'grouchy': 22,\n",
       "         'sick': 21,\n",
       "         'heart': 49,\n",
       "         'time': 294,\n",
       "         'expect': 12,\n",
       "         'content': 27,\n",
       "         'amused': 19,\n",
       "         'absurdity': 1,\n",
       "         'end': 50,\n",
       "         'getting': 93,\n",
       "         'unwanted': 3,\n",
       "         'attention': 14,\n",
       "         'boys': 14,\n",
       "         'ill': 50,\n",
       "         'starting': 39,\n",
       "         'boy': 14,\n",
       "         'flirtiing': 1,\n",
       "         'presence': 10,\n",
       "         'insincere': 3,\n",
       "         'around': 139,\n",
       "         'couldnt': 36,\n",
       "         'bitter': 46,\n",
       "         'towards': 41,\n",
       "         'great': 38,\n",
       "         'big': 35,\n",
       "         'happy': 86,\n",
       "         'grin': 4,\n",
       "         'back': 155,\n",
       "         'point': 44,\n",
       "         'easy': 18,\n",
       "         'sell': 4,\n",
       "         'folk': 5,\n",
       "         'virtuous': 14,\n",
       "         'anyway': 14,\n",
       "         'sociable': 12,\n",
       "         'although': 16,\n",
       "         'express': 13,\n",
       "         'everything': 76,\n",
       "         'joyful': 20,\n",
       "         'certain': 32,\n",
       "         'situation': 34,\n",
       "         'felt': 108,\n",
       "         'neglected': 1,\n",
       "         'undeservedly': 1,\n",
       "         'harmed': 1,\n",
       "         'fine': 31,\n",
       "         'looked': 12,\n",
       "         'us': 50,\n",
       "         'generations': 1,\n",
       "         'three': 22,\n",
       "         'instead': 26,\n",
       "         'outraged': 19,\n",
       "         'history': 5,\n",
       "         'aggression': 1,\n",
       "         'privileged': 13,\n",
       "         'optimistic': 18,\n",
       "         'hateful': 27,\n",
       "         'hollow': 1,\n",
       "         'yes': 13,\n",
       "         'hear': 35,\n",
       "         'smiths': 1,\n",
       "         'days': 74,\n",
       "         'indecisive': 26,\n",
       "         'polling': 1,\n",
       "         'yall': 4,\n",
       "         'p': 4,\n",
       "         'sometime': 2,\n",
       "         'girl': 31,\n",
       "         'terms': 6,\n",
       "         'exboyfriend': 1,\n",
       "         'came': 27,\n",
       "         'shout': 4,\n",
       "         'twelve': 2,\n",
       "         'midnight': 1,\n",
       "         'thought': 65,\n",
       "         'interested': 7,\n",
       "         'id': 57,\n",
       "         'resentful': 56,\n",
       "         'country': 15,\n",
       "         'sun': 9,\n",
       "         'stubbornly': 2,\n",
       "         'refuses': 1,\n",
       "         'show': 43,\n",
       "         'september': 1,\n",
       "         'fucked': 58,\n",
       "         'confess': 7,\n",
       "         'nervous': 79,\n",
       "         'made': 92,\n",
       "         'event': 14,\n",
       "         'venue': 2,\n",
       "         'worried': 18,\n",
       "         'intimidated': 54,\n",
       "         'monica': 1,\n",
       "         'met': 16,\n",
       "         'morning': 42,\n",
       "         'incredibly': 21,\n",
       "         'welcoming': 2,\n",
       "         'relaxed': 23,\n",
       "         'straight': 10,\n",
       "         'away': 89,\n",
       "         'cold': 75,\n",
       "         'amp': 32,\n",
       "         'patience': 5,\n",
       "         'whitleys': 1,\n",
       "         'month': 14,\n",
       "         'photo': 6,\n",
       "         'shoot': 3,\n",
       "         'obnoxious': 18,\n",
       "         'picture': 10,\n",
       "         'morally': 4,\n",
       "         'furious': 14,\n",
       "         'often': 54,\n",
       "         'pissed': 51,\n",
       "         'offer': 10,\n",
       "         'soda': 2,\n",
       "         'hearts': 7,\n",
       "         'treading': 1,\n",
       "         'dangerous': 51,\n",
       "         'territory': 2,\n",
       "         'frightened': 41,\n",
       "         'pleasant': 15,\n",
       "         'selfish': 60,\n",
       "         'saying': 36,\n",
       "         'fallen': 2,\n",
       "         'apart': 5,\n",
       "         'shafted': 1,\n",
       "         'greedy': 58,\n",
       "         'crappy': 3,\n",
       "         'week': 50,\n",
       "         'agitated': 100,\n",
       "         'day': 157,\n",
       "         'rebellious': 42,\n",
       "         'particularly': 29,\n",
       "         'watching': 21,\n",
       "         'romcoms': 1,\n",
       "         'may': 68,\n",
       "         'pretty': 121,\n",
       "         'leave': 39,\n",
       "         'alone': 33,\n",
       "         'helping': 13,\n",
       "         'repay': 1,\n",
       "         'goodness': 2,\n",
       "         'ashamed': 8,\n",
       "         'moment': 52,\n",
       "         'see': 126,\n",
       "         'terrified': 75,\n",
       "         'crying': 10,\n",
       "         'children': 22,\n",
       "         'dead': 5,\n",
       "         'ones': 18,\n",
       "         'wake': 19,\n",
       "         'voice': 11,\n",
       "         'throat': 7,\n",
       "         'feels': 118,\n",
       "         'afternoon': 6,\n",
       "         'scratchy': 1,\n",
       "         'sound': 11,\n",
       "         'marge': 1,\n",
       "         'simpson': 1,\n",
       "         'night': 53,\n",
       "         'bad': 43,\n",
       "         'sore': 5,\n",
       "         'whisper': 2,\n",
       "         'talented': 27,\n",
       "         'enter': 5,\n",
       "         'official': 2,\n",
       "         'contest': 2,\n",
       "         'went': 42,\n",
       "         'satisfied': 29,\n",
       "         'knowing': 27,\n",
       "         'dirt': 1,\n",
       "         'longer': 28,\n",
       "         'car': 25,\n",
       "         'house': 44,\n",
       "         'edition': 1,\n",
       "         'songs': 6,\n",
       "         'gift': 8,\n",
       "         'hesitant': 51,\n",
       "         'programming': 2,\n",
       "         'bitchy': 45,\n",
       "         'adequately': 2,\n",
       "         'expressed': 1,\n",
       "         'appreciation': 2,\n",
       "         'confused': 50,\n",
       "         'professor': 2,\n",
       "         'looks': 10,\n",
       "         'spitball': 1,\n",
       "         'dying': 1,\n",
       "         'cry': 24,\n",
       "         'pillow': 1,\n",
       "         'tickles': 2,\n",
       "         'jealousy': 7,\n",
       "         'luring': 1,\n",
       "         'lair': 1,\n",
       "         'rushed': 51,\n",
       "         'finish': 9,\n",
       "         'millions': 3,\n",
       "         'focus': 9,\n",
       "         'task': 3,\n",
       "         'separately': 1,\n",
       "         'tortured': 69,\n",
       "         'dunno': 5,\n",
       "         'completely': 33,\n",
       "         'real': 28,\n",
       "         'world': 80,\n",
       "         'taught': 6,\n",
       "         'struggle': 6,\n",
       "         'going': 194,\n",
       "         'thru': 1,\n",
       "         'nothing': 53,\n",
       "         'close': 34,\n",
       "         'taken': 17,\n",
       "         'role': 6,\n",
       "         'grandmother': 3,\n",
       "         'beloved': 14,\n",
       "         'grandma': 1,\n",
       "         'fear': 19,\n",
       "         'ask': 32,\n",
       "         'smiled': 2,\n",
       "         'except': 9,\n",
       "         'uptight': 21,\n",
       "         'comments': 13,\n",
       "         'jaw': 2,\n",
       "         'fall': 19,\n",
       "         'right': 134,\n",
       "         'head': 32,\n",
       "         'unsure': 65,\n",
       "         'boundaries': 3,\n",
       "         'normalcy': 1,\n",
       "         'gratitude': 5,\n",
       "         'gracious': 7,\n",
       "         'heavenly': 2,\n",
       "         'father': 10,\n",
       "         'left': 83,\n",
       "         'somewhat': 29,\n",
       "         'dissatisfied': 52,\n",
       "         'simply': 27,\n",
       "         'said': 64,\n",
       "         'sorry': 11,\n",
       "         'restless': 39,\n",
       "         'weird': 65,\n",
       "         'wanna': 13,\n",
       "         'incredible': 4,\n",
       "         'frantic': 38,\n",
       "         'despair': 1,\n",
       "         'hey': 7,\n",
       "         'take': 74,\n",
       "         'sip': 1,\n",
       "         'sensation': 2,\n",
       "         'iced': 1,\n",
       "         'capp': 1,\n",
       "         'pressured': 56,\n",
       "         'longest': 1,\n",
       "         'race': 16,\n",
       "         'expected': 10,\n",
       "         'support': 20,\n",
       "         'hat': 3,\n",
       "         'rule': 6,\n",
       "         'turn': 22,\n",
       "         'school': 43,\n",
       "         'sans': 3,\n",
       "         'ever': 77,\n",
       "         'entire': 9,\n",
       "         'affecting': 1,\n",
       "         'never': 86,\n",
       "         'accounted': 1,\n",
       "         'trauma': 3,\n",
       "         'bring': 10,\n",
       "         'scared': 71,\n",
       "         'losing': 9,\n",
       "         'clearly': 5,\n",
       "         'influenced': 1,\n",
       "         'dash': 2,\n",
       "         'happiness': 10,\n",
       "         'emily': 2,\n",
       "         'dickinson': 1,\n",
       "         'example': 10,\n",
       "         'use': 44,\n",
       "         'dashes': 1,\n",
       "         'colons': 2,\n",
       "         'semi': 2,\n",
       "         'enhance': 1,\n",
       "         'enjambment': 1,\n",
       "         'sonnet': 1,\n",
       "         'pray': 6,\n",
       "         'eyes': 34,\n",
       "         'read': 65,\n",
       "         'minds': 5,\n",
       "         'comprehend': 1,\n",
       "         'lot': 87,\n",
       "         'groups': 1,\n",
       "         'small': 30,\n",
       "         'group': 16,\n",
       "         'hang': 4,\n",
       "         'failed': 2,\n",
       "         'examination': 2,\n",
       "         'train': 7,\n",
       "         'outdoors': 3,\n",
       "         'late': 12,\n",
       "         'bundle': 2,\n",
       "         'wear': 27,\n",
       "         'several': 11,\n",
       "         'layers': 3,\n",
       "         'rather': 61,\n",
       "         'sleep': 47,\n",
       "         'purpose': 8,\n",
       "         'earthquake': 1,\n",
       "         'shaken': 64,\n",
       "         'foundations': 2,\n",
       "         'work': 120,\n",
       "         'recreate': 1,\n",
       "         'fog': 2,\n",
       "         'awaits': 1,\n",
       "         'tomorrow': 16,\n",
       "         'woke': 33,\n",
       "         'positive': 41,\n",
       "         'totally': 28,\n",
       "         'mood': 18,\n",
       "         'evening': 14,\n",
       "         'banana': 2,\n",
       "         'shake': 10,\n",
       "         'breakfast': 3,\n",
       "         'chocolate': 8,\n",
       "         'dinner': 10,\n",
       "         'sunday': 7,\n",
       "         'roast': 1,\n",
       "         'tea': 2,\n",
       "         'defination': 1,\n",
       "         'romance': 1,\n",
       "         'anger': 14,\n",
       "         'mean': 36,\n",
       "         'terrible': 8,\n",
       "         'envious': 31,\n",
       "         'keep': 51,\n",
       "         'posts': 9,\n",
       "         'regular': 5,\n",
       "         'interesting': 5,\n",
       "         'wish': 35,\n",
       "         'could': 186,\n",
       "         'stay': 26,\n",
       "         'faithful': 12,\n",
       "         'possible': 16,\n",
       "         'perceives': 1,\n",
       "         'events': 9,\n",
       "         'mountain': 5,\n",
       "         'assaulted': 17,\n",
       "         'new': 58,\n",
       "         'kid': 8,\n",
       "         'whined': 1,\n",
       "         'road': 6,\n",
       "         'initially': 2,\n",
       "         'rude': 51,\n",
       "         'turning': 12,\n",
       "         'food': 21,\n",
       "         'brought': 10,\n",
       "         'sometimes': 79,\n",
       "         'eating': 19,\n",
       "         'stuff': 32,\n",
       "         'gluten': 1,\n",
       "         'free': 41,\n",
       "         'delicious': 20,\n",
       "         'maybe': 43,\n",
       "         'wasnt': 39,\n",
       "         'mediocre': 1,\n",
       "         'wedding': 5,\n",
       "         'cake': 2,\n",
       "         'sure': 89,\n",
       "         'century': 2,\n",
       "         'college': 9,\n",
       "         'friday': 10,\n",
       "         'kick': 8,\n",
       "         'gear': 5,\n",
       "         'motivation': 4,\n",
       "         'productive': 16,\n",
       "         'productivity': 2,\n",
       "         'chalk': 1,\n",
       "         'ideas': 9,\n",
       "         'art': 13,\n",
       "         'projects': 9,\n",
       "         'summer': 13,\n",
       "         'army': 2,\n",
       "         'attack': 7,\n",
       "         'pigeons': 1,\n",
       "         'tiny': 10,\n",
       "         'uninhabited': 1,\n",
       "         'island': 5,\n",
       "         'already': 62,\n",
       "         'convinced': 24,\n",
       "         'bothered': 59,\n",
       "         'beat': 9,\n",
       "         'far': 38,\n",
       "         'basically': 5,\n",
       "         'drove': 6,\n",
       "         'class': 37,\n",
       "         'apprehensive': 58,\n",
       "         'sweat': 4,\n",
       "         'wronged': 49,\n",
       "         'curse': 2,\n",
       "         'bang': 1,\n",
       "         'onto': 12,\n",
       "         'wall': 10,\n",
       "         'wrinkle': 1,\n",
       "         'prevention': 1,\n",
       "         'beauty': 5,\n",
       "         'products': 9,\n",
       "         'reason': 41,\n",
       "         'thus': 6,\n",
       "         'gotten': 13,\n",
       "         'students': 20,\n",
       "         'parents': 20,\n",
       "         'cant': 117,\n",
       "         'makes': 93,\n",
       "         'difference': 12,\n",
       "         'parent': 7,\n",
       "         'open': 27,\n",
       "         'teacher': 10,\n",
       "         'perfect': 38,\n",
       "         'fit': 16,\n",
       "         'child': 36,\n",
       "         'islam': 1,\n",
       "         'insecurity': 2,\n",
       "         'started': 72,\n",
       "         'pictured': 3,\n",
       "         'deep': 23,\n",
       "         'alaska': 2,\n",
       "         'snowy': 1,\n",
       "         'yet': 60,\n",
       "         'land': 5,\n",
       "         'pine': 1,\n",
       "         'trees': 7,\n",
       "         'mountains': 2,\n",
       "         'destined': 1,\n",
       "         'live': 28,\n",
       "         'southern': 1,\n",
       "         'california': 2,\n",
       "         'shy': 49,\n",
       "         'taking': 36,\n",
       "         'mother': 27,\n",
       "         'described': 1,\n",
       "         'gets': 17,\n",
       "         'ring': 5,\n",
       "         'arms': 14,\n",
       "         'legs': 7,\n",
       "         'cranky': 50,\n",
       "         'cantankerous': 1,\n",
       "         'slave': 2,\n",
       "         'almost': 46,\n",
       "         'mothers': 7,\n",
       "         'rely': 5,\n",
       "         'heavily': 2,\n",
       "         'either': 25,\n",
       "         'alcohol': 1,\n",
       "         'marijuana': 1,\n",
       "         'separation': 2,\n",
       "         'divorce': 1,\n",
       "         'space': 18,\n",
       "         'sanity': 3,\n",
       "         'maternal': 3,\n",
       "         'responsibilities': 3,\n",
       "         'crazy': 11,\n",
       "         'thank': 10,\n",
       "         'god': 50,\n",
       "         'craving': 3,\n",
       "         'fruits': 1,\n",
       "         'gross': 2,\n",
       "         'wind': 3,\n",
       "         'blowing': 3,\n",
       "         'neck': 6,\n",
       "         'talking': 22,\n",
       "         'execution': 1,\n",
       "         'themes': 2,\n",
       "         'seem': 19,\n",
       "         'large': 6,\n",
       "         'fathom': 1,\n",
       "         'emotionless': 1,\n",
       "         'pit': 2,\n",
       "         'self': 38,\n",
       "         'begun': 4,\n",
       "         'thick': 5,\n",
       "         'black': 9,\n",
       "         'rain': 9,\n",
       "         'clouds': 3,\n",
       "         'stormed': 2,\n",
       "         'sky': 5,\n",
       "         'town': 5,\n",
       "         'pop': 6,\n",
       "         'automatically': 2,\n",
       "         'seeing': 23,\n",
       "         'pictures': 9,\n",
       "         'shut': 10,\n",
       "         'door': 19,\n",
       "         'triumphant': 15,\n",
       "         'breath': 13,\n",
       "         'whispered': 2,\n",
       "         'hertha': 1,\n",
       "         'ran': 8,\n",
       "         'fingers': 9,\n",
       "         'across': 12,\n",
       "         'side': 30,\n",
       "         'gave': 16,\n",
       "         'plenty': 5,\n",
       "         'changes': 12,\n",
       "         'shine': 1,\n",
       "         'every': 91,\n",
       "         'women': 25,\n",
       "         'problems': 13,\n",
       "         'five': 8,\n",
       "         'old': 44,\n",
       "         'element': 1,\n",
       "         'pleased': 22,\n",
       "         'surrounded': 3,\n",
       "         'adorable': 1,\n",
       "         'garments': 1,\n",
       "         'reading': 28,\n",
       "         'hell': 10,\n",
       "         'casual': 19,\n",
       "         'favorite': 6,\n",
       "         'blue': 13,\n",
       "         'red': 20,\n",
       "         'heavy': 5,\n",
       "         'colors': 5,\n",
       "         'tables': 1,\n",
       "         'otherwise': 6,\n",
       "         'tournament': 2,\n",
       "         'decks': 1,\n",
       "         'popular': 30,\n",
       "         'possibly': 14,\n",
       "         'steps': 2,\n",
       "         'zendikar': 1,\n",
       "         'block': 6,\n",
       "         'rotates': 1,\n",
       "         'valid': 1,\n",
       "         'complaint': 1,\n",
       "         'arent': 10,\n",
       "         'willing': 4,\n",
       "         'deal': 18,\n",
       "         'aspect': 3,\n",
       "         'imagine': 11,\n",
       "         'subjective': 1,\n",
       "         'cover': 8,\n",
       "         'based': 5,\n",
       "         'despite': 12,\n",
       "         'must': 39,\n",
       "         'choice': 12,\n",
       "         'alterations': 1,\n",
       "         'done': 47,\n",
       "         'elsewhere': 1,\n",
       "         'noticed': 7,\n",
       "         'irritated': 56,\n",
       "         'easily': 14,\n",
       "         'ache': 4,\n",
       "         'inside': 33,\n",
       "         'unnoticeable': 1,\n",
       "         'burrowed': 1,\n",
       "         'foot': 7,\n",
       "         'emotion': 4,\n",
       "         'freaked': 4,\n",
       "         'fearful': 44,\n",
       "         'welling': 1,\n",
       "         'chest': 5,\n",
       "         'extremely': 41,\n",
       "         'attributes': 1,\n",
       "         'overshadowed': 1,\n",
       "         'weakness': 4,\n",
       "         'subconsciously': 3,\n",
       "         'wired': 1,\n",
       "         'superior': 12,\n",
       "         'thereby': 3,\n",
       "         'treat': 6,\n",
       "         'differently': 5,\n",
       "         'hard': 43,\n",
       "         'hours': 23,\n",
       "         'assumptions': 2,\n",
       "         'wondered': 2,\n",
       "         'strange': 84,\n",
       "         'understands': 1,\n",
       "         'walk': 38,\n",
       "         'customers': 3,\n",
       "         'maze': 1,\n",
       "         'found': 40,\n",
       "         'emails': 1,\n",
       "         'scott': 1,\n",
       "         'dale': 1,\n",
       "         'frusterated': 1,\n",
       "         'need': 138,\n",
       "         'post': 40,\n",
       "         'neurotic': 15,\n",
       "         'freak': 2,\n",
       "         'neglecting': 2,\n",
       "         'stubborn': 32,\n",
       "         'sneakily': 1,\n",
       "         'listen': 15,\n",
       "         'x': 4,\n",
       "         'mas': 1,\n",
       "         'music': 26,\n",
       "         'beginning': 16,\n",
       "         'october': 4,\n",
       "         'socially': 3,\n",
       "         'acceptable': 18,\n",
       "         'prance': 1,\n",
       "         'eartha': 1,\n",
       "         'kitt': 1,\n",
       "         'version': 4,\n",
       "         'santa': 3,\n",
       "         'baby': 19,\n",
       "         'blares': 1,\n",
       "         'ipod': 2,\n",
       "         'normally': 5,\n",
       "         'type': 17,\n",
       "         'typically': 1,\n",
       "         'respond': 3,\n",
       "         'wearing': 14,\n",
       "         'confident': 25,\n",
       "         'threw': 4,\n",
       "         'leg': 8,\n",
       "         'top': 8,\n",
       "         'tube': 2,\n",
       "         'surgery': 4,\n",
       "         'unprotected': 4,\n",
       "         'artistic': 22,\n",
       "         'managed': 12,\n",
       "         'eat': 22,\n",
       "         'usually': 24,\n",
       "         'mostly': 17,\n",
       "         'jon': 1,\n",
       "         'quite': 91,\n",
       "         'spent': 22,\n",
       "         'emotional': 15,\n",
       "         'mental': 12,\n",
       "         'argue': 2,\n",
       "         'succumb': 2,\n",
       "         'insecurities': 1,\n",
       "         'thankfully': 2,\n",
       "         'hold': 12,\n",
       "         'strengths': 1,\n",
       "         'determined': 21,\n",
       "         'motivated': 5,\n",
       "         'workout': 5,\n",
       "         'room': 32,\n",
       "         'doubtful': 31,\n",
       "         'dreams': 7,\n",
       "         'shes': 27,\n",
       "         'behind': 25,\n",
       "         'enraged': 8,\n",
       "         'punch': 6,\n",
       "         'actually': 84,\n",
       "         'everyone': 51,\n",
       "         'buy': 23,\n",
       "         'smells': 1,\n",
       "         'amazing': 27,\n",
       "         'sooner': 1,\n",
       "         'greg': 2,\n",
       "         'distressed': 31,\n",
       "         'mom': 32,\n",
       "         'excited': 55,\n",
       "         'smile': 17,\n",
       "         'anxious': 80,\n",
       "         'visable': 1,\n",
       "         'spotlighted': 1,\n",
       "         'different': 26,\n",
       "         'unfashionable': 1,\n",
       "         'stupid': 25,\n",
       "         'embarrassed': 6,\n",
       "         'paranoid': 56,\n",
       "         'seen': 12,\n",
       "         'ago': 26,\n",
       "         'choices': 6,\n",
       "         'walked': 15,\n",
       "         'inspired': 29,\n",
       "         'realistic': 2,\n",
       "         'increase': 1,\n",
       "         'blog': 54,\n",
       "         'chances': 2,\n",
       "         'disappointed': 12,\n",
       "         'shown': 1,\n",
       "         'apparently': 3,\n",
       "         'impatient': 39,\n",
       "         'period': 7,\n",
       "         'hp': 1,\n",
       "         'plugged': 1,\n",
       "         'laptop': 2,\n",
       "         'charging': 1,\n",
       "         'making': 67,\n",
       "         'upload': 2,\n",
       "         'photos': 9,\n",
       "         'online': 7,\n",
       "         'notice': 9,\n",
       "         'fabulous': 21,\n",
       "         'hiding': 4,\n",
       "         'according': 3,\n",
       "         'rest': 20,\n",
       "         'keenly': 1,\n",
       "         'greatly': 1,\n",
       "         'stitch': 2,\n",
       "         'mile': 2,\n",
       "         'feet': 9,\n",
       "         'etc': 19,\n",
       "         'uncomfortable': 55,\n",
       "         'presentations': 1,\n",
       "         'options': 3,\n",
       "         'violent': 55,\n",
       "         'probably': 37,\n",
       "         'costly': 1,\n",
       "         'equally': 10,\n",
       "         'futile': 1,\n",
       "         'whats': 13,\n",
       "         'problem': 9,\n",
       "         'keeping': 9,\n",
       "         'men': 16,\n",
       "         'harms': 2,\n",
       "         'collected': 2,\n",
       "         'create': 15,\n",
       "         'precious': 16,\n",
       "         'items': 3,\n",
       "         'tribute': 2,\n",
       "         'earth': 7,\n",
       "         'power': 8,\n",
       "         'generosity': 1,\n",
       "         'majorly': 1,\n",
       "         'cast': 2,\n",
       "         'alternate': 3,\n",
       "         'universe': 9,\n",
       "         'wrong': 32,\n",
       "         'timeline': 1,\n",
       "         'stuck': 7,\n",
       "         'knew': 26,\n",
       "         'dress': 5,\n",
       "         'practise': 2,\n",
       "         'thai': 2,\n",
       "         'introduction': 1,\n",
       "         'session': 5,\n",
       "         'sat': 11,\n",
       "         'helpless': 51,\n",
       "         'cannot': 33,\n",
       "         'disgusted': 43,\n",
       "         'cause': 22,\n",
       "         'referred': 1,\n",
       "         'ugly': 3,\n",
       "         'angered': 15,\n",
       "         'walking': 17,\n",
       "         'handmade': 2,\n",
       "         'pieces': 9,\n",
       "         'pcm': 1,\n",
       "         'follow': 9,\n",
       "         'appointment': 4,\n",
       "         'hopeful': 20,\n",
       "         'asked': 29,\n",
       "         'prom': 2,\n",
       "         'accepted': 21,\n",
       "         'invitation': 2,\n",
       "         'couldve': 2,\n",
       "         'heartbroken': 2,\n",
       "         'wimpy': 16,\n",
       "         'skip': 3,\n",
       "         'safe': 37,\n",
       "         'argument': 3,\n",
       "         'rough': 2,\n",
       "         'picking': 2,\n",
       "         'toys': 2,\n",
       "         'goddamn': 3,\n",
       "         'hopped': 2,\n",
       "         'scale': 3,\n",
       "         'none': 5,\n",
       "         'appreciate': 9,\n",
       "         'award': 3,\n",
       "         'wonderful': 31,\n",
       "         'blogs': 8,\n",
       "         'winners': 1,\n",
       "         'fun': 25,\n",
       "         'movie': 21,\n",
       "         'least': 43,\n",
       "         'number': 13,\n",
       "         'held': 9,\n",
       "         'mystical': 1,\n",
       "         'key': 8,\n",
       "         'government': 8,\n",
       "         'conspiracy': 2,\n",
       "         'harmful': 2,\n",
       "         'hurting': 4,\n",
       "         'wrongly': 2,\n",
       "         'undo': 1,\n",
       "         'pain': 32,\n",
       "         'childhood': 5,\n",
       "         'bigotry': 1,\n",
       "         'binds': 1,\n",
       "         ...})"
      ]
     },
     "execution_count": 30,
     "metadata": {},
     "output_type": "execute_result"
    }
   ],
   "source": [
    "word_freq"
   ]
  },
  {
   "cell_type": "code",
   "execution_count": 31,
   "id": "d5a0ed83",
   "metadata": {},
   "outputs": [],
   "source": [
    "word_freq_df = pd.DataFrame.from_dict(word_freq, orient='index', columns=['count']).reset_index()\n"
   ]
  },
  {
   "cell_type": "code",
   "execution_count": 32,
   "id": "1a1f032a",
   "metadata": {},
   "outputs": [],
   "source": [
    "word_freq_df = word_freq_df.rename(columns={'index': 'word'})\n"
   ]
  },
  {
   "cell_type": "code",
   "execution_count": 33,
   "id": "8176af7e",
   "metadata": {},
   "outputs": [],
   "source": [
    "word_freq_df = word_freq_df.sort_values(by='count', ascending=False)\n"
   ]
  },
  {
   "cell_type": "code",
   "execution_count": 34,
   "id": "3637c19c",
   "metadata": {},
   "outputs": [
    {
     "data": {
      "text/html": [
       "<div>\n",
       "<style scoped>\n",
       "    .dataframe tbody tr th:only-of-type {\n",
       "        vertical-align: middle;\n",
       "    }\n",
       "\n",
       "    .dataframe tbody tr th {\n",
       "        vertical-align: top;\n",
       "    }\n",
       "\n",
       "    .dataframe thead th {\n",
       "        text-align: right;\n",
       "    }\n",
       "</style>\n",
       "<table border=\"1\" class=\"dataframe\">\n",
       "  <thead>\n",
       "    <tr style=\"text-align: right;\">\n",
       "      <th></th>\n",
       "      <th>word</th>\n",
       "      <th>count</th>\n",
       "    </tr>\n",
       "  </thead>\n",
       "  <tbody>\n",
       "    <tr>\n",
       "      <th>5</th>\n",
       "      <td>feel</td>\n",
       "      <td>4047</td>\n",
       "    </tr>\n",
       "    <tr>\n",
       "      <th>56</th>\n",
       "      <td>feeling</td>\n",
       "      <td>1964</td>\n",
       "    </tr>\n",
       "    <tr>\n",
       "      <th>27</th>\n",
       "      <td>like</td>\n",
       "      <td>992</td>\n",
       "    </tr>\n",
       "    <tr>\n",
       "      <th>8</th>\n",
       "      <td>im</td>\n",
       "      <td>943</td>\n",
       "    </tr>\n",
       "    <tr>\n",
       "      <th>115</th>\n",
       "      <td>little</td>\n",
       "      <td>326</td>\n",
       "    </tr>\n",
       "    <tr>\n",
       "      <th>...</th>\n",
       "      <td>...</td>\n",
       "      <td>...</td>\n",
       "    </tr>\n",
       "    <tr>\n",
       "      <th>1934</th>\n",
       "      <td>logical</td>\n",
       "      <td>1</td>\n",
       "    </tr>\n",
       "    <tr>\n",
       "      <th>5359</th>\n",
       "      <td>heed</td>\n",
       "      <td>1</td>\n",
       "    </tr>\n",
       "    <tr>\n",
       "      <th>1936</th>\n",
       "      <td>uuuugh</td>\n",
       "      <td>1</td>\n",
       "    </tr>\n",
       "    <tr>\n",
       "      <th>5357</th>\n",
       "      <td>mermaidhaire</td>\n",
       "      <td>1</td>\n",
       "    </tr>\n",
       "    <tr>\n",
       "      <th>8833</th>\n",
       "      <td>intimated</td>\n",
       "      <td>1</td>\n",
       "    </tr>\n",
       "  </tbody>\n",
       "</table>\n",
       "<p>8834 rows × 2 columns</p>\n",
       "</div>"
      ],
      "text/plain": [
       "              word  count\n",
       "5             feel   4047\n",
       "56         feeling   1964\n",
       "27            like    992\n",
       "8               im    943\n",
       "115         little    326\n",
       "...            ...    ...\n",
       "1934       logical      1\n",
       "5359          heed      1\n",
       "1936        uuuugh      1\n",
       "5357  mermaidhaire      1\n",
       "8833     intimated      1\n",
       "\n",
       "[8834 rows x 2 columns]"
      ]
     },
     "execution_count": 34,
     "metadata": {},
     "output_type": "execute_result"
    }
   ],
   "source": [
    "word_freq_df"
   ]
  },
  {
   "cell_type": "code",
   "execution_count": 35,
   "id": "362ea974",
   "metadata": {},
   "outputs": [
    {
     "data": {
      "text/plain": [
       "<AxesSubplot:xlabel='word', ylabel='count'>"
      ]
     },
     "execution_count": 35,
     "metadata": {},
     "output_type": "execute_result"
    },
    {
     "data": {
      "image/png": "[encoded data removed]",
      "text/plain": [
       "<Figure size 432x288 with 1 Axes>"
      ]
     },
     "metadata": {
      "needs_background": "light"
     },
     "output_type": "display_data"
    }
   ],
   "source": [
    "sns.barplot(x=word_freq_df['word'][:10],y=word_freq_df['count'][:10])"
   ]
  },
  {
   "cell_type": "code",
   "execution_count": 36,
   "id": "70a6278b",
   "metadata": {},
   "outputs": [],
   "source": [
    "le=LabelEncoder()\n"
   ]
  },
  {
   "cell_type": "code",
   "execution_count": 37,
   "id": "2e1f88e5",
   "metadata": {},
   "outputs": [],
   "source": [
    "df['Emotion']=le.fit_transform(df['Emotion'])\n",
    "\n"
   ]
  },
  {
   "cell_type": "code",
   "execution_count": 38,
   "id": "32a79fcb",
   "metadata": {},
   "outputs": [
    {
     "data": {
      "text/html": [
       "<div>\n",
       "<style scoped>\n",
       "    .dataframe tbody tr th:only-of-type {\n",
       "        vertical-align: middle;\n",
       "    }\n",
       "\n",
       "    .dataframe tbody tr th {\n",
       "        vertical-align: top;\n",
       "    }\n",
       "\n",
       "    .dataframe thead th {\n",
       "        text-align: right;\n",
       "    }\n",
       "</style>\n",
       "<table border=\"1\" class=\"dataframe\">\n",
       "  <thead>\n",
       "    <tr style=\"text-align: right;\">\n",
       "      <th></th>\n",
       "      <th>Comment</th>\n",
       "      <th>Emotion</th>\n",
       "    </tr>\n",
       "  </thead>\n",
       "  <tbody>\n",
       "    <tr>\n",
       "      <th>0</th>\n",
       "      <td>seriously hate one subject death feel reluctan...</td>\n",
       "      <td>1</td>\n",
       "    </tr>\n",
       "    <tr>\n",
       "      <th>1</th>\n",
       "      <td>im full life feel appalled</td>\n",
       "      <td>0</td>\n",
       "    </tr>\n",
       "    <tr>\n",
       "      <th>2</th>\n",
       "      <td>sit write start dig feelings think afraid acce...</td>\n",
       "      <td>1</td>\n",
       "    </tr>\n",
       "    <tr>\n",
       "      <th>3</th>\n",
       "      <td>ive really angry r feel like idiot trusting fi...</td>\n",
       "      <td>2</td>\n",
       "    </tr>\n",
       "    <tr>\n",
       "      <th>4</th>\n",
       "      <td>feel suspicious one outside like rapture happe...</td>\n",
       "      <td>1</td>\n",
       "    </tr>\n",
       "    <tr>\n",
       "      <th>...</th>\n",
       "      <td>...</td>\n",
       "      <td>...</td>\n",
       "    </tr>\n",
       "    <tr>\n",
       "      <th>5932</th>\n",
       "      <td>begun feel distressed</td>\n",
       "      <td>1</td>\n",
       "    </tr>\n",
       "    <tr>\n",
       "      <th>5933</th>\n",
       "      <td>left feeling annoyed angry thinking center stu...</td>\n",
       "      <td>0</td>\n",
       "    </tr>\n",
       "    <tr>\n",
       "      <th>5934</th>\n",
       "      <td>ever get married everything ready offer got to...</td>\n",
       "      <td>2</td>\n",
       "    </tr>\n",
       "    <tr>\n",
       "      <th>5935</th>\n",
       "      <td>feel reluctant applying want able find company...</td>\n",
       "      <td>1</td>\n",
       "    </tr>\n",
       "    <tr>\n",
       "      <th>5936</th>\n",
       "      <td>wanted apologize feel like heartless bitch</td>\n",
       "      <td>0</td>\n",
       "    </tr>\n",
       "  </tbody>\n",
       "</table>\n",
       "<p>5937 rows × 2 columns</p>\n",
       "</div>"
      ],
      "text/plain": [
       "                                                Comment  Emotion\n",
       "0     seriously hate one subject death feel reluctan...        1\n",
       "1                            im full life feel appalled        0\n",
       "2     sit write start dig feelings think afraid acce...        1\n",
       "3     ive really angry r feel like idiot trusting fi...        2\n",
       "4     feel suspicious one outside like rapture happe...        1\n",
       "...                                                 ...      ...\n",
       "5932                              begun feel distressed        1\n",
       "5933  left feeling annoyed angry thinking center stu...        0\n",
       "5934  ever get married everything ready offer got to...        2\n",
       "5935  feel reluctant applying want able find company...        1\n",
       "5936         wanted apologize feel like heartless bitch        0\n",
       "\n",
       "[5937 rows x 2 columns]"
      ]
     },
     "execution_count": 38,
     "metadata": {},
     "output_type": "execute_result"
    }
   ],
   "source": [
    "df"
   ]
  },
  {
   "cell_type": "code",
   "execution_count": 39,
   "id": "6b49d32b",
   "metadata": {},
   "outputs": [],
   "source": [
    "X=df['Comment']"
   ]
  },
  {
   "cell_type": "code",
   "execution_count": 40,
   "id": "2c739b24",
   "metadata": {},
   "outputs": [],
   "source": [
    "y=df['Emotion']"
   ]
  },
  {
   "cell_type": "code",
   "execution_count": 41,
   "id": "8c548d9d",
   "metadata": {},
   "outputs": [
    {
     "data": {
      "text/plain": [
       "0       seriously hate one subject death feel reluctan...\n",
       "1                              im full life feel appalled\n",
       "2       sit write start dig feelings think afraid acce...\n",
       "3       ive really angry r feel like idiot trusting fi...\n",
       "4       feel suspicious one outside like rapture happe...\n",
       "                              ...                        \n",
       "5932                                begun feel distressed\n",
       "5933    left feeling annoyed angry thinking center stu...\n",
       "5934    ever get married everything ready offer got to...\n",
       "5935    feel reluctant applying want able find company...\n",
       "5936           wanted apologize feel like heartless bitch\n",
       "Name: Comment, Length: 5937, dtype: object"
      ]
     },
     "execution_count": 41,
     "metadata": {},
     "output_type": "execute_result"
    }
   ],
   "source": [
    "X"
   ]
  },
  {
   "cell_type": "code",
   "execution_count": 42,
   "id": "1f4ae835",
   "metadata": {},
   "outputs": [
    {
     "data": {
      "text/plain": [
       "0       1\n",
       "1       0\n",
       "2       1\n",
       "3       2\n",
       "4       1\n",
       "       ..\n",
       "5932    1\n",
       "5933    0\n",
       "5934    2\n",
       "5935    1\n",
       "5936    0\n",
       "Name: Emotion, Length: 5937, dtype: int32"
      ]
     },
     "execution_count": 42,
     "metadata": {},
     "output_type": "execute_result"
    }
   ],
   "source": [
    "y"
   ]
  },
  {
   "cell_type": "code",
   "execution_count": 43,
   "id": "2c1edfb9",
   "metadata": {},
   "outputs": [],
   "source": [
    "X_train, X_test, y_train, y_test = train_test_split(X, y, test_size=0.33, random_state=42)\n"
   ]
  },
  {
   "cell_type": "code",
   "execution_count": 44,
   "id": "aa03b077",
   "metadata": {},
   "outputs": [],
   "source": [
    "tdidf_Vectorizer=TfidfVectorizer(max_features=30000)\n"
   ]
  },
  {
   "cell_type": "code",
   "execution_count": 45,
   "id": "3ea68379",
   "metadata": {},
   "outputs": [
    {
     "data": {
      "text/plain": [
       "TfidfVectorizer(max_features=30000)"
      ]
     },
     "execution_count": 45,
     "metadata": {},
     "output_type": "execute_result"
    }
   ],
   "source": [
    "tdidf_Vectorizer"
   ]
  },
  {
   "cell_type": "code",
   "execution_count": 46,
   "id": "bf93b239",
   "metadata": {},
   "outputs": [],
   "source": [
    "# Fiting and transforming the training data\n"
   ]
  },
  {
   "cell_type": "code",
   "execution_count": 47,
   "id": "16a68b7a",
   "metadata": {},
   "outputs": [],
   "source": [
    "X_train_tfidf=tdidf_Vectorizer.fit_transform(X_train)"
   ]
  },
  {
   "cell_type": "code",
   "execution_count": 48,
   "id": "e21408c0",
   "metadata": {},
   "outputs": [
    {
     "data": {
      "text/plain": [
       "<3977x6924 sparse matrix of type '<class 'numpy.float64'>'\n",
       "\twith 35999 stored elements in Compressed Sparse Row format>"
      ]
     },
     "execution_count": 48,
     "metadata": {},
     "output_type": "execute_result"
    }
   ],
   "source": [
    "X_train_tfidf"
   ]
  },
  {
   "cell_type": "code",
   "execution_count": 49,
   "id": "2a3f8ea1",
   "metadata": {},
   "outputs": [],
   "source": [
    "# Transforming the testing data\n"
   ]
  },
  {
   "cell_type": "code",
   "execution_count": 50,
   "id": "c0c6cde8",
   "metadata": {},
   "outputs": [],
   "source": [
    "X_test_tfidf=tdidf_Vectorizer.transform(X_test)"
   ]
  },
  {
   "cell_type": "code",
   "execution_count": 51,
   "id": "a9237f51",
   "metadata": {},
   "outputs": [
    {
     "data": {
      "text/plain": [
       "<1960x6924 sparse matrix of type '<class 'numpy.float64'>'\n",
       "\twith 15766 stored elements in Compressed Sparse Row format>"
      ]
     },
     "execution_count": 51,
     "metadata": {},
     "output_type": "execute_result"
    }
   ],
   "source": [
    "X_test_tfidf"
   ]
  },
  {
   "cell_type": "markdown",
   "id": "f4732e84",
   "metadata": {},
   "source": [
    "# RandomForestClassifier"
   ]
  },
  {
   "cell_type": "code",
   "execution_count": 52,
   "id": "b11ae2e0",
   "metadata": {},
   "outputs": [],
   "source": [
    "rfc=RandomForestClassifier()\n"
   ]
  },
  {
   "cell_type": "code",
   "execution_count": 53,
   "id": "2c84fcb0",
   "metadata": {},
   "outputs": [
    {
     "data": {
      "text/plain": [
       "RandomForestClassifier()"
      ]
     },
     "execution_count": 53,
     "metadata": {},
     "output_type": "execute_result"
    }
   ],
   "source": [
    "rfc.fit(X_train_tfidf,y_train)"
   ]
  },
  {
   "cell_type": "code",
   "execution_count": 54,
   "id": "eba905d4",
   "metadata": {},
   "outputs": [],
   "source": [
    "y_pred=rfc.predict(X_train_tfidf)\n"
   ]
  },
  {
   "cell_type": "code",
   "execution_count": 55,
   "id": "9f90cf31",
   "metadata": {},
   "outputs": [
    {
     "data": {
      "text/plain": [
       "0.9992456625597184"
      ]
     },
     "execution_count": 55,
     "metadata": {},
     "output_type": "execute_result"
    }
   ],
   "source": [
    "accuracy_score(y_train,y_pred)"
   ]
  },
  {
   "cell_type": "code",
   "execution_count": 56,
   "id": "66ee6b8d",
   "metadata": {},
   "outputs": [],
   "source": [
    "y_pred=rfc.predict(X_test_tfidf)\n"
   ]
  },
  {
   "cell_type": "code",
   "execution_count": 57,
   "id": "24949b7a",
   "metadata": {},
   "outputs": [
    {
     "data": {
      "text/plain": [
       "0.9418367346938775"
      ]
     },
     "execution_count": 57,
     "metadata": {},
     "output_type": "execute_result"
    }
   ],
   "source": [
    "accuracy_score(y_test,y_pred)"
   ]
  },
  {
   "cell_type": "code",
   "execution_count": 58,
   "id": "70b2a0fa",
   "metadata": {},
   "outputs": [],
   "source": [
    "cm=confusion_matrix(y_test,y_pred)"
   ]
  },
  {
   "cell_type": "code",
   "execution_count": 59,
   "id": "8717becd",
   "metadata": {},
   "outputs": [
    {
     "data": {
      "text/plain": [
       "<AxesSubplot:>"
      ]
     },
     "execution_count": 59,
     "metadata": {},
     "output_type": "execute_result"
    },
    {
     "data": {
      "image/png": "[encoded data removed]",
      "text/plain": [
       "<Figure size 432x288 with 2 Axes>"
      ]
     },
     "metadata": {
      "needs_background": "light"
     },
     "output_type": "display_data"
    }
   ],
   "source": [
    "sns.heatmap(data=cm,fmt='d',annot=True)"
   ]
  },
  {
   "cell_type": "code",
   "execution_count": 60,
   "id": "14fbaed0",
   "metadata": {},
   "outputs": [
    {
     "name": "stdout",
     "output_type": "stream",
     "text": [
      "              precision    recall  f1-score   support\n",
      "\n",
      "           0       0.95      0.93      0.94       659\n",
      "           1       0.96      0.93      0.95       669\n",
      "           2       0.92      0.97      0.94       632\n",
      "\n",
      "    accuracy                           0.94      1960\n",
      "   macro avg       0.94      0.94      0.94      1960\n",
      "weighted avg       0.94      0.94      0.94      1960\n",
      "\n"
     ]
    }
   ],
   "source": [
    "print(classification_report(y_test,y_pred))"
   ]
  },
  {
   "cell_type": "code",
   "execution_count": 61,
   "id": "defb0759",
   "metadata": {},
   "outputs": [],
   "source": [
    "def predict_emotion(ele):\n",
    "    ele=[ele]\n",
    "    input_tfidf=tdidf_Vectorizer.transform(ele)\n",
    "    predicted_label=rfc.predict(input_tfidf)\n",
    "    predicted_emotion=le.inverse_transform(predicted_label)\n",
    "    return predicted_emotion"
   ]
  },
  {
   "cell_type": "code",
   "execution_count": 62,
   "id": "ea8196f2",
   "metadata": {},
   "outputs": [
    {
     "name": "stdout",
     "output_type": "stream",
     "text": [
      "Enter a commentim so full of life i feel appalled\n"
     ]
    }
   ],
   "source": [
    "user_input=input(\"Enter a comment\")\n"
   ]
  },
  {
   "cell_type": "code",
   "execution_count": 63,
   "id": "328915f3",
   "metadata": {},
   "outputs": [],
   "source": [
    "emotion=predict_emotion(user_input)\n"
   ]
  },
  {
   "cell_type": "code",
   "execution_count": 64,
   "id": "b71e5046",
   "metadata": {},
   "outputs": [
    {
     "name": "stdout",
     "output_type": "stream",
     "text": [
      "['anger']\n"
     ]
    }
   ],
   "source": [
    "print(emotion)"
   ]
  },
  {
   "cell_type": "markdown",
   "id": "08db668f",
   "metadata": {},
   "source": [
    "# LogisticRegression"
   ]
  },
  {
   "cell_type": "code",
   "execution_count": 65,
   "id": "04dac94f",
   "metadata": {},
   "outputs": [],
   "source": [
    "lr=LogisticRegression()\n",
    "\n"
   ]
  },
  {
   "cell_type": "code",
   "execution_count": 66,
   "id": "ef28f92c",
   "metadata": {},
   "outputs": [
    {
     "data": {
      "text/plain": [
       "LogisticRegression()"
      ]
     },
     "execution_count": 66,
     "metadata": {},
     "output_type": "execute_result"
    }
   ],
   "source": [
    "lr.fit(X_train_tfidf,y_train)"
   ]
  },
  {
   "cell_type": "code",
   "execution_count": 67,
   "id": "a55d4d42",
   "metadata": {},
   "outputs": [],
   "source": [
    "y_pred=lr.predict(X_train_tfidf)\n"
   ]
  },
  {
   "cell_type": "code",
   "execution_count": 68,
   "id": "1f27430e",
   "metadata": {},
   "outputs": [
    {
     "data": {
      "text/plain": [
       "0.9869248177017853"
      ]
     },
     "execution_count": 68,
     "metadata": {},
     "output_type": "execute_result"
    }
   ],
   "source": [
    "accuracy_score(y_train,y_pred)"
   ]
  },
  {
   "cell_type": "code",
   "execution_count": 69,
   "id": "46cd0954",
   "metadata": {},
   "outputs": [],
   "source": [
    "y_pred=lr.predict(X_test_tfidf)\n"
   ]
  },
  {
   "cell_type": "code",
   "execution_count": 70,
   "id": "e52fa8f1",
   "metadata": {},
   "outputs": [
    {
     "data": {
      "text/plain": [
       "0.9331632653061225"
      ]
     },
     "execution_count": 70,
     "metadata": {},
     "output_type": "execute_result"
    }
   ],
   "source": [
    "accuracy_score(y_test,y_pred)"
   ]
  },
  {
   "cell_type": "code",
   "execution_count": 71,
   "id": "c07e5bdc",
   "metadata": {},
   "outputs": [],
   "source": [
    "cm=confusion_matrix(y_test,y_pred)"
   ]
  },
  {
   "cell_type": "code",
   "execution_count": 72,
   "id": "22ef05d9",
   "metadata": {},
   "outputs": [
    {
     "data": {
      "text/plain": [
       "<AxesSubplot:>"
      ]
     },
     "execution_count": 72,
     "metadata": {},
     "output_type": "execute_result"
    },
    {
     "data": {
      "image/png": "[encoded data removed]",
      "text/plain": [
       "<Figure size 432x288 with 2 Axes>"
      ]
     },
     "metadata": {
      "needs_background": "light"
     },
     "output_type": "display_data"
    }
   ],
   "source": [
    "sns.heatmap(data=cm,fmt='d',annot=True)"
   ]
  },
  {
   "cell_type": "code",
   "execution_count": 73,
   "id": "8af0ae04",
   "metadata": {},
   "outputs": [
    {
     "name": "stdout",
     "output_type": "stream",
     "text": [
      "              precision    recall  f1-score   support\n",
      "\n",
      "           0       0.94      0.94      0.94       659\n",
      "           1       0.95      0.90      0.93       669\n",
      "           2       0.91      0.96      0.93       632\n",
      "\n",
      "    accuracy                           0.93      1960\n",
      "   macro avg       0.93      0.93      0.93      1960\n",
      "weighted avg       0.93      0.93      0.93      1960\n",
      "\n"
     ]
    }
   ],
   "source": [
    "print(classification_report(y_test,y_pred))"
   ]
  },
  {
   "cell_type": "code",
   "execution_count": 74,
   "id": "a595fcbb",
   "metadata": {},
   "outputs": [],
   "source": [
    "def predict_emotion(ele):\n",
    "    ele=[ele]\n",
    "    input_tfidf=tdidf_Vectorizer.transform(ele)\n",
    "    predicted_label=lr.predict(input_tfidf)\n",
    "    predicted_emotion=le.inverse_transform(predicted_label)\n",
    "    return predicted_emotion"
   ]
  },
  {
   "cell_type": "code",
   "execution_count": 75,
   "id": "27ff51b0",
   "metadata": {},
   "outputs": [
    {
     "name": "stdout",
     "output_type": "stream",
     "text": [
      "Enter a commenti lost my money\n"
     ]
    }
   ],
   "source": [
    "user_input=input(\"Enter a comment\")\n"
   ]
  },
  {
   "cell_type": "code",
   "execution_count": 76,
   "id": "13836d1d",
   "metadata": {},
   "outputs": [],
   "source": [
    "emotion=predict_emotion(user_input)\n"
   ]
  },
  {
   "cell_type": "code",
   "execution_count": 77,
   "id": "e8422a09",
   "metadata": {},
   "outputs": [
    {
     "name": "stdout",
     "output_type": "stream",
     "text": [
      "['anger']\n"
     ]
    }
   ],
   "source": [
    "print(emotion)"
   ]
  },
  {
   "cell_type": "markdown",
   "id": "e84df39b",
   "metadata": {},
   "source": [
    "# KNeighborsClassifier"
   ]
  },
  {
   "cell_type": "code",
   "execution_count": 78,
   "id": "e62f4ec3",
   "metadata": {},
   "outputs": [],
   "source": [
    "knc=KNeighborsClassifier()\n"
   ]
  },
  {
   "cell_type": "code",
   "execution_count": 79,
   "id": "5c1516a8",
   "metadata": {},
   "outputs": [
    {
     "data": {
      "text/plain": [
       "KNeighborsClassifier()"
      ]
     },
     "execution_count": 79,
     "metadata": {},
     "output_type": "execute_result"
    }
   ],
   "source": [
    "knc.fit(X_train_tfidf,y_train)"
   ]
  },
  {
   "cell_type": "code",
   "execution_count": 80,
   "id": "9ea46735",
   "metadata": {},
   "outputs": [],
   "source": [
    "y_pred=knc.predict(X_train_tfidf)\n"
   ]
  },
  {
   "cell_type": "code",
   "execution_count": 81,
   "id": "271a22b4",
   "metadata": {},
   "outputs": [
    {
     "data": {
      "text/plain": [
       "0.8868493839577571"
      ]
     },
     "execution_count": 81,
     "metadata": {},
     "output_type": "execute_result"
    }
   ],
   "source": [
    "accuracy_score(y_train,y_pred)"
   ]
  },
  {
   "cell_type": "code",
   "execution_count": 82,
   "id": "8cfe2a9a",
   "metadata": {},
   "outputs": [],
   "source": [
    "y_pred=knc.predict(X_test_tfidf)\n"
   ]
  },
  {
   "cell_type": "code",
   "execution_count": 83,
   "id": "f71e31f1",
   "metadata": {},
   "outputs": [
    {
     "data": {
      "text/plain": [
       "0.7887755102040817"
      ]
     },
     "execution_count": 83,
     "metadata": {},
     "output_type": "execute_result"
    }
   ],
   "source": [
    "accuracy_score(y_test,y_pred)"
   ]
  },
  {
   "cell_type": "code",
   "execution_count": 84,
   "id": "cbbbd448",
   "metadata": {},
   "outputs": [],
   "source": [
    "cm=confusion_matrix(y_test,y_pred)"
   ]
  },
  {
   "cell_type": "code",
   "execution_count": 85,
   "id": "583f7df2",
   "metadata": {},
   "outputs": [
    {
     "data": {
      "text/plain": [
       "<AxesSubplot:>"
      ]
     },
     "execution_count": 85,
     "metadata": {},
     "output_type": "execute_result"
    },
    {
     "data": {
      "image/png": "[encoded data removed]",
      "text/plain": [
       "<Figure size 432x288 with 2 Axes>"
      ]
     },
     "metadata": {
      "needs_background": "light"
     },
     "output_type": "display_data"
    }
   ],
   "source": [
    "sns.heatmap(data=cm,fmt='d',annot=True)"
   ]
  },
  {
   "cell_type": "code",
   "execution_count": 86,
   "id": "1a332b2c",
   "metadata": {},
   "outputs": [
    {
     "name": "stdout",
     "output_type": "stream",
     "text": [
      "              precision    recall  f1-score   support\n",
      "\n",
      "           0       0.73      0.88      0.80       659\n",
      "           1       0.78      0.79      0.78       669\n",
      "           2       0.89      0.70      0.78       632\n",
      "\n",
      "    accuracy                           0.79      1960\n",
      "   macro avg       0.80      0.79      0.79      1960\n",
      "weighted avg       0.80      0.79      0.79      1960\n",
      "\n"
     ]
    }
   ],
   "source": [
    "print(classification_report(y_test,y_pred))"
   ]
  },
  {
   "cell_type": "code",
   "execution_count": 87,
   "id": "8e62100d",
   "metadata": {},
   "outputs": [],
   "source": [
    "def predict_emotion(ele):\n",
    "    ele=[ele]\n",
    "    input_tfidf=tdidf_Vectorizer.transform(ele)\n",
    "    predicted_label=knc.predict(input_tfidf)\n",
    "    predicted_emotion=le.inverse_transform(predicted_label)\n",
    "    return predicted_emotion"
   ]
  },
  {
   "cell_type": "code",
   "execution_count": 88,
   "id": "f7f404d3",
   "metadata": {},
   "outputs": [
    {
     "name": "stdout",
     "output_type": "stream",
     "text": [
      "Enter a commenti love rain so much\n"
     ]
    }
   ],
   "source": [
    "user_input=input(\"Enter a comment\")\n"
   ]
  },
  {
   "cell_type": "code",
   "execution_count": 89,
   "id": "e8075a3d",
   "metadata": {},
   "outputs": [],
   "source": [
    "emotion=predict_emotion(user_input)\n"
   ]
  },
  {
   "cell_type": "code",
   "execution_count": 90,
   "id": "dbd2dfd4",
   "metadata": {},
   "outputs": [
    {
     "name": "stdout",
     "output_type": "stream",
     "text": [
      "['joy']\n"
     ]
    }
   ],
   "source": [
    "print(emotion)"
   ]
  },
  {
   "cell_type": "markdown",
   "id": "83da3889",
   "metadata": {},
   "source": [
    "# XGBClassifier"
   ]
  },
  {
   "cell_type": "code",
   "execution_count": 91,
   "id": "5885bc42",
   "metadata": {},
   "outputs": [],
   "source": [
    "xgb_i=xgb.XGBClassifier()"
   ]
  },
  {
   "cell_type": "code",
   "execution_count": 92,
   "id": "4e3de2df",
   "metadata": {},
   "outputs": [
    {
     "data": {
      "text/plain": [
       "XGBClassifier(base_score=None, booster=None, callbacks=None,\n",
       "              colsample_bylevel=None, colsample_bynode=None,\n",
       "              colsample_bytree=None, early_stopping_rounds=None,\n",
       "              enable_categorical=False, eval_metric=None, feature_types=None,\n",
       "              gamma=None, gpu_id=None, grow_policy=None, importance_type=None,\n",
       "              interaction_constraints=None, learning_rate=None, max_bin=None,\n",
       "              max_cat_threshold=None, max_cat_to_onehot=None,\n",
       "              max_delta_step=None, max_depth=None, max_leaves=None,\n",
       "              min_child_weight=None, missing=nan, monotone_constraints=None,\n",
       "              n_estimators=100, n_jobs=None, num_parallel_tree=None,\n",
       "              objective='multi:softprob', predictor=None, ...)"
      ]
     },
     "execution_count": 92,
     "metadata": {},
     "output_type": "execute_result"
    }
   ],
   "source": [
    "xgb_i.fit(X_train_tfidf,y_train)"
   ]
  },
  {
   "cell_type": "code",
   "execution_count": 93,
   "id": "355aaa3b",
   "metadata": {},
   "outputs": [],
   "source": [
    "y_pred=xgb_i.predict(X_train_tfidf)\n"
   ]
  },
  {
   "cell_type": "code",
   "execution_count": 94,
   "id": "70b3d14d",
   "metadata": {},
   "outputs": [
    {
     "data": {
      "text/plain": [
       "0.9675634900678903"
      ]
     },
     "execution_count": 94,
     "metadata": {},
     "output_type": "execute_result"
    }
   ],
   "source": [
    "accuracy_score(y_train,y_pred)"
   ]
  },
  {
   "cell_type": "code",
   "execution_count": 95,
   "id": "f1deb415",
   "metadata": {},
   "outputs": [],
   "source": [
    "y_pred=xgb_i.predict(X_test_tfidf)\n"
   ]
  },
  {
   "cell_type": "code",
   "execution_count": 96,
   "id": "c07e537c",
   "metadata": {},
   "outputs": [
    {
     "data": {
      "text/plain": [
       "0.9372448979591836"
      ]
     },
     "execution_count": 96,
     "metadata": {},
     "output_type": "execute_result"
    }
   ],
   "source": [
    "accuracy_score(y_test,y_pred)"
   ]
  },
  {
   "cell_type": "code",
   "execution_count": 97,
   "id": "1976d1a0",
   "metadata": {},
   "outputs": [],
   "source": [
    "cm=confusion_matrix(y_test,y_pred)"
   ]
  },
  {
   "cell_type": "code",
   "execution_count": 98,
   "id": "1bf501fb",
   "metadata": {},
   "outputs": [
    {
     "data": {
      "text/plain": [
       "<AxesSubplot:>"
      ]
     },
     "execution_count": 98,
     "metadata": {},
     "output_type": "execute_result"
    },
    {
     "data": {
      "image/png": "[encoded data removed]",
      "text/plain": [
       "<Figure size 432x288 with 2 Axes>"
      ]
     },
     "metadata": {
      "needs_background": "light"
     },
     "output_type": "display_data"
    }
   ],
   "source": [
    "sns.heatmap(data=cm,fmt='d',annot=True)"
   ]
  },
  {
   "cell_type": "code",
   "execution_count": 99,
   "id": "eb3368ea",
   "metadata": {},
   "outputs": [
    {
     "name": "stdout",
     "output_type": "stream",
     "text": [
      "              precision    recall  f1-score   support\n",
      "\n",
      "           0       0.94      0.93      0.94       659\n",
      "           1       0.97      0.91      0.94       669\n",
      "           2       0.90      0.97      0.94       632\n",
      "\n",
      "    accuracy                           0.94      1960\n",
      "   macro avg       0.94      0.94      0.94      1960\n",
      "weighted avg       0.94      0.94      0.94      1960\n",
      "\n"
     ]
    }
   ],
   "source": [
    "print(classification_report(y_test,y_pred))"
   ]
  },
  {
   "cell_type": "code",
   "execution_count": 100,
   "id": "55106896",
   "metadata": {},
   "outputs": [],
   "source": [
    "def predict_emotion(ele):\n",
    "    ele=[ele]\n",
    "    input_tfidf=tdidf_Vectorizer.transform(ele)\n",
    "    predicted_label=xgb_i.predict(input_tfidf)\n",
    "    predicted_emotion=le.inverse_transform(predicted_label)\n",
    "    return predicted_emotion"
   ]
  },
  {
   "cell_type": "code",
   "execution_count": 101,
   "id": "300ee42e",
   "metadata": {},
   "outputs": [
    {
     "name": "stdout",
     "output_type": "stream",
     "text": [
      "Enter a commenti am very confident \n"
     ]
    }
   ],
   "source": [
    "user_input=input(\"Enter a comment\")\n"
   ]
  },
  {
   "cell_type": "code",
   "execution_count": 102,
   "id": "a68a2d95",
   "metadata": {},
   "outputs": [],
   "source": [
    "emotion=predict_emotion(user_input)\n"
   ]
  },
  {
   "cell_type": "code",
   "execution_count": 103,
   "id": "2af465ab",
   "metadata": {},
   "outputs": [
    {
     "name": "stdout",
     "output_type": "stream",
     "text": [
      "['joy']\n"
     ]
    }
   ],
   "source": [
    "print(emotion)"
   ]
  },
  {
   "cell_type": "code",
   "execution_count": null,
   "id": "1a993313",
   "metadata": {},
   "outputs": [],
   "source": []
  }
 ],
 "metadata": {
  "kernelspec": {
   "display_name": "Python 3 (ipykernel)",
   "language": "python",
   "name": "python3"
  },
  "language_info": {
   "codemirror_mode": {
    "name": "ipython",
    "version": 3
   },
   "file_extension": ".py",
   "mimetype": "text/x-python",
   "name": "python",
   "nbconvert_exporter": "python",
   "pygments_lexer": "ipython3",
   "version": "3.9.12"
  }
 },
 "nbformat": 4,
 "nbformat_minor": 5
}
